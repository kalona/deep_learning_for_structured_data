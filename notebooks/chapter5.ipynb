{
 "cells": [
  {
   "cell_type": "markdown",
   "source": [
    "# Pandas equivalents for common SQL operations\n",
    "- this notebook shows the Pandas equivalents for some common SQL operations"
   ],
   "metadata": {
    "cell_id": "00000-c20e488e-9947-4e97-966f-15421675e7fb",
    "deepnote_cell_type": "markdown"
   }
  },
  {
   "cell_type": "markdown",
   "source": [
    "# Import libraries and ingest data\n",
    "- load one sheet from the streetcar delay dataset into a Pandas dataframe"
   ],
   "metadata": {
    "cell_id": "00001-542ec02f-437a-49bc-8818-60239966931b",
    "deepnote_cell_type": "markdown"
   }
  },
  {
   "cell_type": "code",
   "metadata": {
    "cell_id": "00002-82ab48ee-34f7-457b-a045-07d46cbbee61",
    "deepnote_to_be_reexecuted": false,
    "source_hash": "9ca2e6fb",
    "execution_start": 1621870873650,
    "execution_millis": 1,
    "deepnote_cell_type": "code"
   },
   "source": [
    "import numpy as np # linear algebra\n",
    "import pandas as pd # data processing, CSV file I/O (e.g. pd.read_csv)\n",
    "import datetime\n",
    "import os\n"
   ],
   "execution_count": 1,
   "outputs": []
  },
  {
   "cell_type": "code",
   "metadata": {
    "cell_id": "00003-d22aa5f0-8dcc-4dba-a89c-abc2177532d6",
    "deepnote_to_be_reexecuted": false,
    "source_hash": "3a4cfc99",
    "execution_start": 1621870876001,
    "execution_millis": 5,
    "deepnote_cell_type": "code"
   },
   "source": [
    "# get the directory for that this notebook is in\n",
    "rawpath = os.getcwd()\n",
    "print(\"raw path is\",rawpath)"
   ],
   "execution_count": 2,
   "outputs": [
    {
     "name": "stdout",
     "text": "raw path is /work/deep_learning_for_structured_data/notebooks\n",
     "output_type": "stream"
    }
   ]
  },
  {
   "cell_type": "code",
   "metadata": {
    "cell_id": "00004-d05772ea-4950-436d-b820-31bb9edd7342",
    "deepnote_to_be_reexecuted": false,
    "source_hash": "f3757c94",
    "execution_start": 1621870876994,
    "execution_millis": 7,
    "deepnote_cell_type": "code"
   },
   "source": [
    "# data is in a directory called \"data\" that is a sibling to the directory containing the notebook\n",
    "# this code assumes you have copied to this directory all the XLS files from the source dataset: https://www.toronto.ca/city-government/data-research-maps/open-data/open-data-catalogue/#e8f359f0-2f47-3058-bf64-6ec488de52da\n",
    "path = os.path.abspath(os.path.join(rawpath, '..', 'data'))\n",
    "print(\"path is\", path)"
   ],
   "execution_count": 3,
   "outputs": [
    {
     "name": "stdout",
     "text": "path is /work/deep_learning_for_structured_data/data\n",
     "output_type": "stream"
    }
   ]
  },
  {
   "cell_type": "code",
   "metadata": {
    "cell_id": "00005-26507933-55b6-44bc-9328-d180aa588f3f",
    "deepnote_to_be_reexecuted": false,
    "source_hash": "87ffaebb",
    "execution_start": 1621870879706,
    "execution_millis": 13,
    "deepnote_cell_type": "code"
   },
   "source": [
    "# dataset into Pandas dataframe\n",
    "file = \"Streetcar Jan 2014.csv\"\n",
    "streetcarjan2014=pd.read_csv(os.path.join(path,file))"
   ],
   "execution_count": 4,
   "outputs": []
  },
  {
   "cell_type": "markdown",
   "source": [
    "# Show SQL / Pandas equivalent statements\n",
    "- in the following cells, each Python statement is preceded by a comment that shows the SQL that would produce the same result as the Python statement"
   ],
   "metadata": {
    "cell_id": "00006-e09707d3-cb34-43e2-bc99-7aea7d402155",
    "deepnote_cell_type": "markdown"
   }
  },
  {
   "cell_type": "code",
   "metadata": {
    "cell_id": "00007-f5902b4b-4114-4687-9b24-56a54a746058",
    "deepnote_to_be_reexecuted": false,
    "source_hash": "edcf318e",
    "execution_start": 1621870990899,
    "execution_millis": 5,
    "deepnote_cell_type": "code"
   },
   "source": [
    "# select * from streetcarjan2014 limit 3\n",
    "streetcarjan2014.head(3)"
   ],
   "execution_count": 5,
   "outputs": [
    {
     "output_type": "execute_result",
     "execution_count": 5,
     "data": {
      "application/vnd.deepnote.dataframe.v2+json": {
       "row_count": 3,
       "column_count": 10,
       "columns": [
        {
         "name": "Report Date",
         "dtype": "object",
         "stats": {
          "unique_count": 1,
          "nan_count": 0,
          "categories": [
           {
            "name": "2014-01-02",
            "count": 3
           }
          ]
         }
        },
        {
         "name": "Route",
         "dtype": "int64",
         "stats": {
          "unique_count": 3,
          "nan_count": 0,
          "min": "501",
          "max": "505",
          "histogram": [
           {
            "bin_start": 501,
            "bin_end": 501.4,
            "count": 1
           },
           {
            "bin_start": 501.4,
            "bin_end": 501.8,
            "count": 0
           },
           {
            "bin_start": 501.8,
            "bin_end": 502.2,
            "count": 0
           },
           {
            "bin_start": 502.2,
            "bin_end": 502.6,
            "count": 0
           },
           {
            "bin_start": 502.6,
            "bin_end": 503,
            "count": 0
           },
           {
            "bin_start": 503,
            "bin_end": 503.4,
            "count": 0
           },
           {
            "bin_start": 503.4,
            "bin_end": 503.8,
            "count": 0
           },
           {
            "bin_start": 503.8,
            "bin_end": 504.2,
            "count": 1
           },
           {
            "bin_start": 504.2,
            "bin_end": 504.6,
            "count": 0
           },
           {
            "bin_start": 504.6,
            "bin_end": 505,
            "count": 1
           }
          ]
         }
        },
        {
         "name": "Time",
         "dtype": "object",
         "stats": {
          "unique_count": 3,
          "nan_count": 0,
          "categories": [
           {
            "name": "6:31:00 AM",
            "count": 1
           },
           {
            "name": "12:43:00 PM",
            "count": 1
           },
           {
            "name": "2:01:00 PM",
            "count": 1
           }
          ]
         }
        },
        {
         "name": "Day",
         "dtype": "object",
         "stats": {
          "unique_count": 1,
          "nan_count": 0,
          "categories": [
           {
            "name": "Thursday",
            "count": 3
           }
          ]
         }
        },
        {
         "name": "Location",
         "dtype": "object",
         "stats": {
          "unique_count": 3,
          "nan_count": 0,
          "categories": [
           {
            "name": "Dundas and Roncesvalles",
            "count": 1
           },
           {
            "name": "King and Shaw",
            "count": 1
           },
           {
            "name": "Kingston road and Bingham",
            "count": 1
           }
          ]
         }
        },
        {
         "name": "Incident",
         "dtype": "object",
         "stats": {
          "unique_count": 3,
          "nan_count": 0,
          "categories": [
           {
            "name": "Late Leaving Garage",
            "count": 1
           },
           {
            "name": "Utilized Off Route",
            "count": 1
           },
           {
            "name": "Held By",
            "count": 1
           }
          ]
         }
        },
        {
         "name": "Min Delay",
         "dtype": "int64",
         "stats": {
          "unique_count": 3,
          "nan_count": 0,
          "min": "4",
          "max": "20",
          "histogram": [
           {
            "bin_start": 4,
            "bin_end": 5.6,
            "count": 1
           },
           {
            "bin_start": 5.6,
            "bin_end": 7.2,
            "count": 0
           },
           {
            "bin_start": 7.2,
            "bin_end": 8.8,
            "count": 0
           },
           {
            "bin_start": 8.8,
            "bin_end": 10.4,
            "count": 0
           },
           {
            "bin_start": 10.4,
            "bin_end": 12,
            "count": 0
           },
           {
            "bin_start": 12,
            "bin_end": 13.600000000000001,
            "count": 1
           },
           {
            "bin_start": 13.600000000000001,
            "bin_end": 15.200000000000001,
            "count": 0
           },
           {
            "bin_start": 15.200000000000001,
            "bin_end": 16.8,
            "count": 0
           },
           {
            "bin_start": 16.8,
            "bin_end": 18.4,
            "count": 0
           },
           {
            "bin_start": 18.4,
            "bin_end": 20,
            "count": 1
           }
          ]
         }
        },
        {
         "name": "Min Gap",
         "dtype": "float64",
         "stats": {
          "unique_count": 3,
          "nan_count": 0,
          "min": "8.0",
          "max": "22.0",
          "histogram": [
           {
            "bin_start": 8,
            "bin_end": 9.4,
            "count": 1
           },
           {
            "bin_start": 9.4,
            "bin_end": 10.8,
            "count": 0
           },
           {
            "bin_start": 10.8,
            "bin_end": 12.2,
            "count": 0
           },
           {
            "bin_start": 12.2,
            "bin_end": 13.6,
            "count": 0
           },
           {
            "bin_start": 13.6,
            "bin_end": 15,
            "count": 0
           },
           {
            "bin_start": 15,
            "bin_end": 16.4,
            "count": 0
           },
           {
            "bin_start": 16.4,
            "bin_end": 17.799999999999997,
            "count": 0
           },
           {
            "bin_start": 17.799999999999997,
            "bin_end": 19.2,
            "count": 1
           },
           {
            "bin_start": 19.2,
            "bin_end": 20.6,
            "count": 0
           },
           {
            "bin_start": 20.6,
            "bin_end": 22,
            "count": 1
           }
          ]
         }
        },
        {
         "name": "Direction",
         "dtype": "object",
         "stats": {
          "unique_count": 2,
          "nan_count": 0,
          "categories": [
           {
            "name": "E/B",
            "count": 2
           },
           {
            "name": "W/B",
            "count": 1
           }
          ]
         }
        },
        {
         "name": "Vehicle",
         "dtype": "float64",
         "stats": {
          "unique_count": 3,
          "nan_count": 0,
          "min": "4016.0",
          "max": "4128.0",
          "histogram": [
           {
            "bin_start": 4016,
            "bin_end": 4027.2,
            "count": 2
           },
           {
            "bin_start": 4027.2,
            "bin_end": 4038.4,
            "count": 0
           },
           {
            "bin_start": 4038.4,
            "bin_end": 4049.6,
            "count": 0
           },
           {
            "bin_start": 4049.6,
            "bin_end": 4060.8,
            "count": 0
           },
           {
            "bin_start": 4060.8,
            "bin_end": 4072,
            "count": 0
           },
           {
            "bin_start": 4072,
            "bin_end": 4083.2,
            "count": 0
           },
           {
            "bin_start": 4083.2,
            "bin_end": 4094.4,
            "count": 0
           },
           {
            "bin_start": 4094.4,
            "bin_end": 4105.6,
            "count": 0
           },
           {
            "bin_start": 4105.6,
            "bin_end": 4116.8,
            "count": 0
           },
           {
            "bin_start": 4116.8,
            "bin_end": 4128,
            "count": 1
           }
          ]
         }
        },
        {
         "name": "_deepnote_index_column",
         "dtype": "int64"
        }
       ],
       "rows_top": [
        {
         "Report Date": "2014-01-02",
         "Route": 505,
         "Time": "6:31:00 AM",
         "Day": "Thursday",
         "Location": "Dundas and Roncesvalles",
         "Incident": "Late Leaving Garage",
         "Min Delay": 4,
         "Min Gap": 8,
         "Direction": "E/B",
         "Vehicle": 4018,
         "_deepnote_index_column": 0
        },
        {
         "Report Date": "2014-01-02",
         "Route": 504,
         "Time": "12:43:00 PM",
         "Day": "Thursday",
         "Location": "King and Shaw",
         "Incident": "Utilized Off Route",
         "Min Delay": 20,
         "Min Gap": 22,
         "Direction": "E/B",
         "Vehicle": 4128,
         "_deepnote_index_column": 1
        },
        {
         "Report Date": "2014-01-02",
         "Route": 501,
         "Time": "2:01:00 PM",
         "Day": "Thursday",
         "Location": "Kingston road and Bingham",
         "Incident": "Held By",
         "Min Delay": 13,
         "Min Gap": 19,
         "Direction": "W/B",
         "Vehicle": 4016,
         "_deepnote_index_column": 2
        }
       ],
       "rows_bottom": null
      },
      "text/plain": "  Report Date  Route         Time       Day                   Location  \\\n0  2014-01-02    505   6:31:00 AM  Thursday    Dundas and Roncesvalles   \n1  2014-01-02    504  12:43:00 PM  Thursday              King and Shaw   \n2  2014-01-02    501   2:01:00 PM  Thursday  Kingston road and Bingham   \n\n              Incident  Min Delay  Min Gap Direction  Vehicle  \n0  Late Leaving Garage          4      8.0       E/B   4018.0  \n1   Utilized Off Route         20     22.0       E/B   4128.0  \n2              Held By         13     19.0       W/B   4016.0  ",
      "text/html": "<div>\n<style scoped>\n    .dataframe tbody tr th:only-of-type {\n        vertical-align: middle;\n    }\n\n    .dataframe tbody tr th {\n        vertical-align: top;\n    }\n\n    .dataframe thead th {\n        text-align: right;\n    }\n</style>\n<table border=\"1\" class=\"dataframe\">\n  <thead>\n    <tr style=\"text-align: right;\">\n      <th></th>\n      <th>Report Date</th>\n      <th>Route</th>\n      <th>Time</th>\n      <th>Day</th>\n      <th>Location</th>\n      <th>Incident</th>\n      <th>Min Delay</th>\n      <th>Min Gap</th>\n      <th>Direction</th>\n      <th>Vehicle</th>\n    </tr>\n  </thead>\n  <tbody>\n    <tr>\n      <th>0</th>\n      <td>2014-01-02</td>\n      <td>505</td>\n      <td>6:31:00 AM</td>\n      <td>Thursday</td>\n      <td>Dundas and Roncesvalles</td>\n      <td>Late Leaving Garage</td>\n      <td>4</td>\n      <td>8.0</td>\n      <td>E/B</td>\n      <td>4018.0</td>\n    </tr>\n    <tr>\n      <th>1</th>\n      <td>2014-01-02</td>\n      <td>504</td>\n      <td>12:43:00 PM</td>\n      <td>Thursday</td>\n      <td>King and Shaw</td>\n      <td>Utilized Off Route</td>\n      <td>20</td>\n      <td>22.0</td>\n      <td>E/B</td>\n      <td>4128.0</td>\n    </tr>\n    <tr>\n      <th>2</th>\n      <td>2014-01-02</td>\n      <td>501</td>\n      <td>2:01:00 PM</td>\n      <td>Thursday</td>\n      <td>Kingston road and Bingham</td>\n      <td>Held By</td>\n      <td>13</td>\n      <td>19.0</td>\n      <td>W/B</td>\n      <td>4016.0</td>\n    </tr>\n  </tbody>\n</table>\n</div>"
     },
     "metadata": {}
    }
   ]
  },
  {
   "cell_type": "code",
   "metadata": {
    "tags": [],
    "deepnote_variable_name": "df_1",
    "sql_integration_id": "e34a96c0-eba7-4479-8c86-cbec13921c94",
    "cell_id": "00008-2586f62c-1abb-46b9-b879-03e312ce9587",
    "deepnote_to_be_reexecuted": false,
    "source_hash": "713f8f16",
    "execution_start": 1621870996123,
    "execution_millis": 2288,
    "deepnote_cell_type": "sql"
   },
   "source": [
    "select * from streetcarjan2014 limit 3"
   ],
   "execution_count": 6,
   "outputs": [
    {
     "output_type": "execute_result",
     "execution_count": 6,
     "data": {
      "application/vnd.deepnote.dataframe.v2+json": {
       "row_count": 3,
       "column_count": 10,
       "columns": [
        {
         "name": "Report Date",
         "dtype": "object",
         "stats": {
          "unique_count": 1,
          "nan_count": 0,
          "categories": [
           {
            "name": "2014-01-02",
            "count": 3
           }
          ]
         }
        },
        {
         "name": "route",
         "dtype": "object",
         "stats": {
          "unique_count": 3,
          "nan_count": 0,
          "categories": [
           {
            "name": "505",
            "count": 1
           },
           {
            "name": "504",
            "count": 1
           },
           {
            "name": "501",
            "count": 1
           }
          ]
         }
        },
        {
         "name": "Time",
         "dtype": "object",
         "stats": {
          "unique_count": 3,
          "nan_count": 0,
          "categories": [
           {
            "name": "06:31:00",
            "count": 1
           },
           {
            "name": "12:43:00",
            "count": 1
           },
           {
            "name": "14:01:00",
            "count": 1
           }
          ]
         }
        },
        {
         "name": "Day",
         "dtype": "object",
         "stats": {
          "unique_count": 1,
          "nan_count": 0,
          "categories": [
           {
            "name": "Thursday",
            "count": 3
           }
          ]
         }
        },
        {
         "name": "Location ",
         "dtype": "object",
         "stats": {
          "unique_count": 3,
          "nan_count": 0,
          "categories": [
           {
            "name": "Dundas and Roncesvalles",
            "count": 1
           },
           {
            "name": "King and Shaw",
            "count": 1
           },
           {
            "name": "Kingston road and Bingham",
            "count": 1
           }
          ]
         }
        },
        {
         "name": "incident",
         "dtype": "object",
         "stats": {
          "unique_count": 3,
          "nan_count": 0,
          "categories": [
           {
            "name": "Late Leaving Garage",
            "count": 1
           },
           {
            "name": "Utilized Off Route",
            "count": 1
           },
           {
            "name": "Held By",
            "count": 1
           }
          ]
         }
        },
        {
         "name": "Min Delay",
         "dtype": "int64",
         "stats": {
          "unique_count": 3,
          "nan_count": 0,
          "min": "4",
          "max": "20",
          "histogram": [
           {
            "bin_start": 4,
            "bin_end": 5.6,
            "count": 1
           },
           {
            "bin_start": 5.6,
            "bin_end": 7.2,
            "count": 0
           },
           {
            "bin_start": 7.2,
            "bin_end": 8.8,
            "count": 0
           },
           {
            "bin_start": 8.8,
            "bin_end": 10.4,
            "count": 0
           },
           {
            "bin_start": 10.4,
            "bin_end": 12,
            "count": 0
           },
           {
            "bin_start": 12,
            "bin_end": 13.600000000000001,
            "count": 1
           },
           {
            "bin_start": 13.600000000000001,
            "bin_end": 15.200000000000001,
            "count": 0
           },
           {
            "bin_start": 15.200000000000001,
            "bin_end": 16.8,
            "count": 0
           },
           {
            "bin_start": 16.8,
            "bin_end": 18.4,
            "count": 0
           },
           {
            "bin_start": 18.4,
            "bin_end": 20,
            "count": 1
           }
          ]
         }
        },
        {
         "name": "Min Gap",
         "dtype": "int64",
         "stats": {
          "unique_count": 3,
          "nan_count": 0,
          "min": "8",
          "max": "22",
          "histogram": [
           {
            "bin_start": 8,
            "bin_end": 9.4,
            "count": 1
           },
           {
            "bin_start": 9.4,
            "bin_end": 10.8,
            "count": 0
           },
           {
            "bin_start": 10.8,
            "bin_end": 12.2,
            "count": 0
           },
           {
            "bin_start": 12.2,
            "bin_end": 13.6,
            "count": 0
           },
           {
            "bin_start": 13.6,
            "bin_end": 15,
            "count": 0
           },
           {
            "bin_start": 15,
            "bin_end": 16.4,
            "count": 0
           },
           {
            "bin_start": 16.4,
            "bin_end": 17.799999999999997,
            "count": 0
           },
           {
            "bin_start": 17.799999999999997,
            "bin_end": 19.2,
            "count": 1
           },
           {
            "bin_start": 19.2,
            "bin_end": 20.6,
            "count": 0
           },
           {
            "bin_start": 20.6,
            "bin_end": 22,
            "count": 1
           }
          ]
         }
        },
        {
         "name": "direction",
         "dtype": "object",
         "stats": {
          "unique_count": 2,
          "nan_count": 0,
          "categories": [
           {
            "name": "E/B",
            "count": 2
           },
           {
            "name": "W/B",
            "count": 1
           }
          ]
         }
        },
        {
         "name": "vehicle",
         "dtype": "object",
         "stats": {
          "unique_count": 3,
          "nan_count": 0,
          "categories": [
           {
            "name": "4018",
            "count": 1
           },
           {
            "name": "4128",
            "count": 1
           },
           {
            "name": "4016",
            "count": 1
           }
          ]
         }
        },
        {
         "name": "_deepnote_index_column",
         "dtype": "int64"
        }
       ],
       "rows_top": [
        {
         "Report Date": "2014-01-02",
         "route": "505",
         "Time": "06:31:00",
         "Day": "Thursday",
         "Location ": "Dundas and Roncesvalles",
         "incident": "Late Leaving Garage",
         "Min Delay": 4,
         "Min Gap": 8,
         "direction": "E/B",
         "vehicle": "4018",
         "_deepnote_index_column": 0
        },
        {
         "Report Date": "2014-01-02",
         "route": "504",
         "Time": "12:43:00",
         "Day": "Thursday",
         "Location ": "King and Shaw",
         "incident": "Utilized Off Route",
         "Min Delay": 20,
         "Min Gap": 22,
         "direction": "E/B",
         "vehicle": "4128",
         "_deepnote_index_column": 1
        },
        {
         "Report Date": "2014-01-02",
         "route": "501",
         "Time": "14:01:00",
         "Day": "Thursday",
         "Location ": "Kingston road and Bingham",
         "incident": "Held By",
         "Min Delay": 13,
         "Min Gap": 19,
         "direction": "W/B",
         "vehicle": "4016",
         "_deepnote_index_column": 2
        }
       ],
       "rows_bottom": null
      },
      "text/plain": "  Report Date route      Time       Day                  Location   \\\n0  2014-01-02   505  06:31:00  Thursday    Dundas and Roncesvalles   \n1  2014-01-02   504  12:43:00  Thursday              King and Shaw   \n2  2014-01-02   501  14:01:00  Thursday  Kingston road and Bingham   \n\n              incident  Min Delay  Min Gap direction vehicle  \n0  Late Leaving Garage          4        8       E/B    4018  \n1   Utilized Off Route         20       22       E/B    4128  \n2              Held By         13       19       W/B    4016  ",
      "text/html": "<div>\n<style scoped>\n    .dataframe tbody tr th:only-of-type {\n        vertical-align: middle;\n    }\n\n    .dataframe tbody tr th {\n        vertical-align: top;\n    }\n\n    .dataframe thead th {\n        text-align: right;\n    }\n</style>\n<table border=\"1\" class=\"dataframe\">\n  <thead>\n    <tr style=\"text-align: right;\">\n      <th></th>\n      <th>Report Date</th>\n      <th>route</th>\n      <th>Time</th>\n      <th>Day</th>\n      <th>Location</th>\n      <th>incident</th>\n      <th>Min Delay</th>\n      <th>Min Gap</th>\n      <th>direction</th>\n      <th>vehicle</th>\n    </tr>\n  </thead>\n  <tbody>\n    <tr>\n      <th>0</th>\n      <td>2014-01-02</td>\n      <td>505</td>\n      <td>06:31:00</td>\n      <td>Thursday</td>\n      <td>Dundas and Roncesvalles</td>\n      <td>Late Leaving Garage</td>\n      <td>4</td>\n      <td>8</td>\n      <td>E/B</td>\n      <td>4018</td>\n    </tr>\n    <tr>\n      <th>1</th>\n      <td>2014-01-02</td>\n      <td>504</td>\n      <td>12:43:00</td>\n      <td>Thursday</td>\n      <td>King and Shaw</td>\n      <td>Utilized Off Route</td>\n      <td>20</td>\n      <td>22</td>\n      <td>E/B</td>\n      <td>4128</td>\n    </tr>\n    <tr>\n      <th>2</th>\n      <td>2014-01-02</td>\n      <td>501</td>\n      <td>14:01:00</td>\n      <td>Thursday</td>\n      <td>Kingston road and Bingham</td>\n      <td>Held By</td>\n      <td>13</td>\n      <td>19</td>\n      <td>W/B</td>\n      <td>4016</td>\n    </tr>\n  </tbody>\n</table>\n</div>"
     },
     "metadata": {}
    }
   ]
  },
  {
   "cell_type": "code",
   "metadata": {
    "cell_id": "00008-548cd034-a2be-4afb-a05c-1ad9d22b8de9",
    "deepnote_to_be_reexecuted": false,
    "source_hash": "d7c6ac25",
    "execution_start": 1621810018061,
    "execution_millis": 5,
    "deepnote_cell_type": "code"
   },
   "source": [
    "# single condition on a Select\n",
    "# select \"Route\" from streetcarjan2014 where \"Location \" = 'King and Shaw'\n",
    "streetcarjan2014[streetcarjan2014.Location == \"King and Shaw\"].Route\n"
   ],
   "execution_count": null,
   "outputs": [
    {
     "output_type": "execute_result",
     "execution_count": 8,
     "data": {
      "text/plain": "1    504\nName: Route, dtype: int64"
     },
     "metadata": {}
    }
   ]
  },
  {
   "cell_type": "code",
   "metadata": {
    "tags": [],
    "deepnote_variable_name": "df_2",
    "sql_integration_id": "e34a96c0-eba7-4479-8c86-cbec13921c94",
    "cell_id": "00010-43085d97-7dc9-40d2-adfd-02412df2ed64",
    "deepnote_to_be_reexecuted": false,
    "source_hash": "1db88493",
    "execution_start": 1621810117901,
    "execution_millis": 2071,
    "deepnote_cell_type": "sql"
   },
   "source": [
    "select \"route\" from streetcarjan2014 where \"Location \" = 'King and Shaw'"
   ],
   "execution_count": null,
   "outputs": [
    {
     "output_type": "execute_result",
     "execution_count": 10,
     "data": {
      "application/vnd.deepnote.dataframe.v2+json": {
       "row_count": 1,
       "column_count": 1,
       "columns": [
        {
         "name": "route",
         "dtype": "object",
         "stats": {
          "unique_count": 1,
          "nan_count": 0,
          "categories": [
           {
            "name": "504",
            "count": 1
           }
          ]
         }
        },
        {
         "name": "_deepnote_index_column",
         "dtype": "int64"
        }
       ],
       "rows_top": [
        {
         "route": "504",
         "_deepnote_index_column": 0
        }
       ],
       "rows_bottom": null
      },
      "text/plain": "  route\n0   504",
      "text/html": "<div>\n<style scoped>\n    .dataframe tbody tr th:only-of-type {\n        vertical-align: middle;\n    }\n\n    .dataframe tbody tr th {\n        vertical-align: top;\n    }\n\n    .dataframe thead th {\n        text-align: right;\n    }\n</style>\n<table border=\"1\" class=\"dataframe\">\n  <thead>\n    <tr style=\"text-align: right;\">\n      <th></th>\n      <th>route</th>\n    </tr>\n  </thead>\n  <tbody>\n    <tr>\n      <th>0</th>\n      <td>504</td>\n    </tr>\n  </tbody>\n</table>\n</div>"
     },
     "metadata": {}
    }
   ]
  },
  {
   "cell_type": "code",
   "metadata": {
    "cell_id": "00009-cb5ee709-aa6f-426e-9d31-2c4d57ab9647",
    "deepnote_to_be_reexecuted": false,
    "source_hash": "2c7d4921",
    "execution_start": 1618588552508,
    "execution_millis": 9,
    "deepnote_cell_type": "code"
   },
   "source": [
    "# unique entries in a column\n",
    "# select distinct \"Incident\" from streetcarjan2014\n",
    "streetcarjan2014.Incident.unique()"
   ],
   "execution_count": null,
   "outputs": [
    {
     "output_type": "execute_result",
     "execution_count": 7,
     "data": {
      "text/plain": "array(['Late Leaving Garage', 'Utilized Off Route', 'Held By',\n       'Investigation', 'Mechanical', 'General Delay',\n       'Emergency Services', 'Diversion'], dtype=object)"
     },
     "metadata": {}
    }
   ]
  },
  {
   "cell_type": "code",
   "metadata": {
    "cell_id": "00010-40cf2b79-469e-4393-82a2-f73621f63654",
    "deepnote_to_be_reexecuted": false,
    "source_hash": "cd5df35d",
    "execution_start": 1618588563254,
    "execution_millis": 46,
    "deepnote_cell_type": "code"
   },
   "source": [
    "# multiple conditions on a Select\n",
    "# select * from streetcarjan2014 where 'Min Delay' > 20 and Day = \"Sunday\"\n",
    "streetcarjan2014[(streetcarjan2014['Min Delay'] > 20) & (streetcarjan2014['Day'] == \"Sunday\")]\n"
   ],
   "execution_count": null,
   "outputs": [
    {
     "output_type": "execute_result",
     "execution_count": 8,
     "data": {
      "application/vnd.deepnote.dataframe.v2+json": {
       "row_count": 2,
       "column_count": 10,
       "columns": [
        {
         "name": "Report Date",
         "dtype": "object",
         "stats": {
          "unique_count": 1,
          "nan_count": 0,
          "categories": [
           {
            "name": "2014-01-19",
            "count": 2
           }
          ]
         }
        },
        {
         "name": "Route",
         "dtype": "int64",
         "stats": {
          "unique_count": 2,
          "nan_count": 0,
          "min": "504",
          "max": "511",
          "histogram": [
           {
            "bin_start": 504,
            "bin_end": 504.7,
            "count": 1
           },
           {
            "bin_start": 504.7,
            "bin_end": 505.4,
            "count": 0
           },
           {
            "bin_start": 505.4,
            "bin_end": 506.1,
            "count": 0
           },
           {
            "bin_start": 506.1,
            "bin_end": 506.8,
            "count": 0
           },
           {
            "bin_start": 506.8,
            "bin_end": 507.5,
            "count": 0
           },
           {
            "bin_start": 507.5,
            "bin_end": 508.2,
            "count": 0
           },
           {
            "bin_start": 508.2,
            "bin_end": 508.9,
            "count": 0
           },
           {
            "bin_start": 508.9,
            "bin_end": 509.6,
            "count": 0
           },
           {
            "bin_start": 509.6,
            "bin_end": 510.3,
            "count": 0
           },
           {
            "bin_start": 510.3,
            "bin_end": 511,
            "count": 1
           }
          ]
         }
        },
        {
         "name": "Time",
         "dtype": "object",
         "stats": {
          "unique_count": 2,
          "nan_count": 0,
          "categories": [
           {
            "name": "8:33:00 AM",
            "count": 1
           },
           {
            "name": "7:17:00 PM",
            "count": 1
           }
          ]
         }
        },
        {
         "name": "Day",
         "dtype": "object",
         "stats": {
          "unique_count": 1,
          "nan_count": 0,
          "categories": [
           {
            "name": "Sunday",
            "count": 2
           }
          ]
         }
        },
        {
         "name": "Location",
         "dtype": "object",
         "stats": {
          "unique_count": 2,
          "nan_count": 0,
          "categories": [
           {
            "name": "King and Queen",
            "count": 1
           },
           {
            "name": "Bathurst and Front",
            "count": 1
           }
          ]
         }
        },
        {
         "name": "Incident",
         "dtype": "object",
         "stats": {
          "unique_count": 2,
          "nan_count": 0,
          "categories": [
           {
            "name": "Held By",
            "count": 1
           },
           {
            "name": "Investigation",
            "count": 1
           }
          ]
         }
        },
        {
         "name": "Min Delay",
         "dtype": "int64",
         "stats": {
          "unique_count": 2,
          "nan_count": 0,
          "min": "33",
          "max": "40",
          "histogram": [
           {
            "bin_start": 33,
            "bin_end": 33.7,
            "count": 1
           },
           {
            "bin_start": 33.7,
            "bin_end": 34.4,
            "count": 0
           },
           {
            "bin_start": 34.4,
            "bin_end": 35.1,
            "count": 0
           },
           {
            "bin_start": 35.1,
            "bin_end": 35.8,
            "count": 0
           },
           {
            "bin_start": 35.8,
            "bin_end": 36.5,
            "count": 0
           },
           {
            "bin_start": 36.5,
            "bin_end": 37.2,
            "count": 0
           },
           {
            "bin_start": 37.2,
            "bin_end": 37.9,
            "count": 0
           },
           {
            "bin_start": 37.9,
            "bin_end": 38.6,
            "count": 0
           },
           {
            "bin_start": 38.6,
            "bin_end": 39.3,
            "count": 0
           },
           {
            "bin_start": 39.3,
            "bin_end": 40,
            "count": 1
           }
          ]
         }
        },
        {
         "name": "Min Gap",
         "dtype": "float64",
         "stats": {
          "unique_count": 2,
          "nan_count": 0,
          "min": "40.0",
          "max": "50.0",
          "histogram": [
           {
            "bin_start": 40,
            "bin_end": 41,
            "count": 1
           },
           {
            "bin_start": 41,
            "bin_end": 42,
            "count": 0
           },
           {
            "bin_start": 42,
            "bin_end": 43,
            "count": 0
           },
           {
            "bin_start": 43,
            "bin_end": 44,
            "count": 0
           },
           {
            "bin_start": 44,
            "bin_end": 45,
            "count": 0
           },
           {
            "bin_start": 45,
            "bin_end": 46,
            "count": 0
           },
           {
            "bin_start": 46,
            "bin_end": 47,
            "count": 0
           },
           {
            "bin_start": 47,
            "bin_end": 48,
            "count": 0
           },
           {
            "bin_start": 48,
            "bin_end": 49,
            "count": 0
           },
           {
            "bin_start": 49,
            "bin_end": 50,
            "count": 1
           }
          ]
         }
        },
        {
         "name": "Direction",
         "dtype": "object",
         "stats": {
          "unique_count": 2,
          "nan_count": 0,
          "categories": [
           {
            "name": "E/B",
            "count": 1
           },
           {
            "name": "S/B",
            "count": 1
           }
          ]
         }
        },
        {
         "name": "Vehicle",
         "dtype": "float64",
         "stats": {
          "unique_count": 2,
          "nan_count": 0,
          "min": "4089.0",
          "max": "4179.0",
          "histogram": [
           {
            "bin_start": 4089,
            "bin_end": 4098,
            "count": 1
           },
           {
            "bin_start": 4098,
            "bin_end": 4107,
            "count": 0
           },
           {
            "bin_start": 4107,
            "bin_end": 4116,
            "count": 0
           },
           {
            "bin_start": 4116,
            "bin_end": 4125,
            "count": 0
           },
           {
            "bin_start": 4125,
            "bin_end": 4134,
            "count": 0
           },
           {
            "bin_start": 4134,
            "bin_end": 4143,
            "count": 0
           },
           {
            "bin_start": 4143,
            "bin_end": 4152,
            "count": 0
           },
           {
            "bin_start": 4152,
            "bin_end": 4161,
            "count": 0
           },
           {
            "bin_start": 4161,
            "bin_end": 4170,
            "count": 0
           },
           {
            "bin_start": 4170,
            "bin_end": 4179,
            "count": 1
           }
          ]
         }
        },
        {
         "name": "_deepnote_index_column",
         "dtype": "int64"
        }
       ],
       "rows_top": [
        {
         "Report Date": "2014-01-19",
         "Route": 504,
         "Time": "8:33:00 AM",
         "Day": "Sunday",
         "Location": "King and Queen",
         "Incident": "Held By",
         "Min Delay": 40,
         "Min Gap": 50,
         "Direction": "E/B",
         "Vehicle": 4089,
         "_deepnote_index_column": 305
        },
        {
         "Report Date": "2014-01-19",
         "Route": 511,
         "Time": "7:17:00 PM",
         "Day": "Sunday",
         "Location": "Bathurst and Front",
         "Incident": "Investigation",
         "Min Delay": 33,
         "Min Gap": 40,
         "Direction": "S/B",
         "Vehicle": 4179,
         "_deepnote_index_column": 311
        }
       ],
       "rows_bottom": null
      },
      "text/plain": "    Report Date  Route        Time     Day            Location       Incident  \\\n305  2014-01-19    504  8:33:00 AM  Sunday      King and Queen        Held By   \n311  2014-01-19    511  7:17:00 PM  Sunday  Bathurst and Front  Investigation   \n\n     Min Delay  Min Gap Direction  Vehicle  \n305         40     50.0       E/B   4089.0  \n311         33     40.0       S/B   4179.0  ",
      "text/html": "<div>\n<style scoped>\n    .dataframe tbody tr th:only-of-type {\n        vertical-align: middle;\n    }\n\n    .dataframe tbody tr th {\n        vertical-align: top;\n    }\n\n    .dataframe thead th {\n        text-align: right;\n    }\n</style>\n<table border=\"1\" class=\"dataframe\">\n  <thead>\n    <tr style=\"text-align: right;\">\n      <th></th>\n      <th>Report Date</th>\n      <th>Route</th>\n      <th>Time</th>\n      <th>Day</th>\n      <th>Location</th>\n      <th>Incident</th>\n      <th>Min Delay</th>\n      <th>Min Gap</th>\n      <th>Direction</th>\n      <th>Vehicle</th>\n    </tr>\n  </thead>\n  <tbody>\n    <tr>\n      <th>305</th>\n      <td>2014-01-19</td>\n      <td>504</td>\n      <td>8:33:00 AM</td>\n      <td>Sunday</td>\n      <td>King and Queen</td>\n      <td>Held By</td>\n      <td>40</td>\n      <td>50.0</td>\n      <td>E/B</td>\n      <td>4089.0</td>\n    </tr>\n    <tr>\n      <th>311</th>\n      <td>2014-01-19</td>\n      <td>511</td>\n      <td>7:17:00 PM</td>\n      <td>Sunday</td>\n      <td>Bathurst and Front</td>\n      <td>Investigation</td>\n      <td>33</td>\n      <td>40.0</td>\n      <td>S/B</td>\n      <td>4179.0</td>\n    </tr>\n  </tbody>\n</table>\n</div>"
     },
     "metadata": {}
    }
   ]
  },
  {
   "cell_type": "code",
   "metadata": {
    "cell_id": "00011-3551061b-4c62-4775-a5f9-7639d2037d9c",
    "deepnote_to_be_reexecuted": false,
    "source_hash": "aa6e7c2d",
    "execution_start": 1618588612259,
    "execution_millis": 9,
    "deepnote_cell_type": "code"
   },
   "source": [
    "# ORDER BY\n",
    "# select \"Route\", \"Min Delay\" from streetcarjan2014 where \"Min Delay\" > 20 order by \"Min Delay\"\n",
    "streetcarjan2014[['Route','Min Delay']][(streetcarjan2014['Min Delay'] > 20)].sort_values('Min Delay')\n"
   ],
   "execution_count": null,
   "outputs": [
    {
     "output_type": "execute_result",
     "execution_count": 9,
     "data": {
      "application/vnd.deepnote.dataframe.v2+json": {
       "row_count": 17,
       "column_count": 2,
       "columns": [
        {
         "name": "Route",
         "dtype": "int64",
         "stats": {
          "unique_count": 6,
          "nan_count": 0,
          "min": "501",
          "max": "512",
          "histogram": [
           {
            "bin_start": 501,
            "bin_end": 502.1,
            "count": 3
           },
           {
            "bin_start": 502.1,
            "bin_end": 503.2,
            "count": 0
           },
           {
            "bin_start": 503.2,
            "bin_end": 504.3,
            "count": 5
           },
           {
            "bin_start": 504.3,
            "bin_end": 505.4,
            "count": 1
           },
           {
            "bin_start": 505.4,
            "bin_end": 506.5,
            "count": 3
           },
           {
            "bin_start": 506.5,
            "bin_end": 507.6,
            "count": 0
           },
           {
            "bin_start": 507.6,
            "bin_end": 508.7,
            "count": 0
           },
           {
            "bin_start": 508.7,
            "bin_end": 509.8,
            "count": 0
           },
           {
            "bin_start": 509.8,
            "bin_end": 510.9,
            "count": 0
           },
           {
            "bin_start": 510.9,
            "bin_end": 512,
            "count": 5
           }
          ]
         }
        },
        {
         "name": "Min Delay",
         "dtype": "int64",
         "stats": {
          "unique_count": 13,
          "nan_count": 0,
          "min": "22",
          "max": "93",
          "histogram": [
           {
            "bin_start": 22,
            "bin_end": 29.1,
            "count": 7
           },
           {
            "bin_start": 29.1,
            "bin_end": 36.2,
            "count": 4
           },
           {
            "bin_start": 36.2,
            "bin_end": 43.3,
            "count": 2
           },
           {
            "bin_start": 43.3,
            "bin_end": 50.4,
            "count": 0
           },
           {
            "bin_start": 50.4,
            "bin_end": 57.5,
            "count": 0
           },
           {
            "bin_start": 57.5,
            "bin_end": 64.6,
            "count": 0
           },
           {
            "bin_start": 64.6,
            "bin_end": 71.69999999999999,
            "count": 1
           },
           {
            "bin_start": 71.69999999999999,
            "bin_end": 78.8,
            "count": 2
           },
           {
            "bin_start": 78.8,
            "bin_end": 85.9,
            "count": 0
           },
           {
            "bin_start": 85.9,
            "bin_end": 93,
            "count": 1
           }
          ]
         }
        },
        {
         "name": "_deepnote_index_column",
         "dtype": "int64"
        }
       ],
       "rows_top": [
        {
         "Route": 501,
         "Min Delay": 22,
         "_deepnote_index_column": 148
        },
        {
         "Route": 501,
         "Min Delay": 22,
         "_deepnote_index_column": 271
        },
        {
         "Route": 506,
         "Min Delay": 23,
         "_deepnote_index_column": 277
        },
        {
         "Route": 506,
         "Min Delay": 25,
         "_deepnote_index_column": 296
        },
        {
         "Route": 504,
         "Min Delay": 25,
         "_deepnote_index_column": 295
        },
        {
         "Route": 511,
         "Min Delay": 27,
         "_deepnote_index_column": 298
        },
        {
         "Route": 504,
         "Min Delay": 28,
         "_deepnote_index_column": 297
        },
        {
         "Route": 505,
         "Min Delay": 33,
         "_deepnote_index_column": 293
        },
        {
         "Route": 511,
         "Min Delay": 33,
         "_deepnote_index_column": 300
        },
        {
         "Route": 511,
         "Min Delay": 33,
         "_deepnote_index_column": 311
        },
        {
         "Route": 504,
         "Min Delay": 35,
         "_deepnote_index_column": 304
        },
        {
         "Route": 504,
         "Min Delay": 40,
         "_deepnote_index_column": 305
        },
        {
         "Route": 512,
         "Min Delay": 42,
         "_deepnote_index_column": 286
        },
        {
         "Route": 511,
         "Min Delay": 66,
         "_deepnote_index_column": 299
        },
        {
         "Route": 506,
         "Min Delay": 74,
         "_deepnote_index_column": 291
        },
        {
         "Route": 504,
         "Min Delay": 77,
         "_deepnote_index_column": 237
        },
        {
         "Route": 501,
         "Min Delay": 93,
         "_deepnote_index_column": 236
        }
       ],
       "rows_bottom": null
      },
      "text/plain": "     Route  Min Delay\n148    501         22\n271    501         22\n277    506         23\n296    506         25\n295    504         25\n298    511         27\n297    504         28\n293    505         33\n300    511         33\n311    511         33\n304    504         35\n305    504         40\n286    512         42\n299    511         66\n291    506         74\n237    504         77\n236    501         93",
      "text/html": "<div>\n<style scoped>\n    .dataframe tbody tr th:only-of-type {\n        vertical-align: middle;\n    }\n\n    .dataframe tbody tr th {\n        vertical-align: top;\n    }\n\n    .dataframe thead th {\n        text-align: right;\n    }\n</style>\n<table border=\"1\" class=\"dataframe\">\n  <thead>\n    <tr style=\"text-align: right;\">\n      <th></th>\n      <th>Route</th>\n      <th>Min Delay</th>\n    </tr>\n  </thead>\n  <tbody>\n    <tr>\n      <th>148</th>\n      <td>501</td>\n      <td>22</td>\n    </tr>\n    <tr>\n      <th>271</th>\n      <td>501</td>\n      <td>22</td>\n    </tr>\n    <tr>\n      <th>277</th>\n      <td>506</td>\n      <td>23</td>\n    </tr>\n    <tr>\n      <th>296</th>\n      <td>506</td>\n      <td>25</td>\n    </tr>\n    <tr>\n      <th>295</th>\n      <td>504</td>\n      <td>25</td>\n    </tr>\n    <tr>\n      <th>298</th>\n      <td>511</td>\n      <td>27</td>\n    </tr>\n    <tr>\n      <th>297</th>\n      <td>504</td>\n      <td>28</td>\n    </tr>\n    <tr>\n      <th>293</th>\n      <td>505</td>\n      <td>33</td>\n    </tr>\n    <tr>\n      <th>300</th>\n      <td>511</td>\n      <td>33</td>\n    </tr>\n    <tr>\n      <th>311</th>\n      <td>511</td>\n      <td>33</td>\n    </tr>\n    <tr>\n      <th>304</th>\n      <td>504</td>\n      <td>35</td>\n    </tr>\n    <tr>\n      <th>305</th>\n      <td>504</td>\n      <td>40</td>\n    </tr>\n    <tr>\n      <th>286</th>\n      <td>512</td>\n      <td>42</td>\n    </tr>\n    <tr>\n      <th>299</th>\n      <td>511</td>\n      <td>66</td>\n    </tr>\n    <tr>\n      <th>291</th>\n      <td>506</td>\n      <td>74</td>\n    </tr>\n    <tr>\n      <th>237</th>\n      <td>504</td>\n      <td>77</td>\n    </tr>\n    <tr>\n      <th>236</th>\n      <td>501</td>\n      <td>93</td>\n    </tr>\n  </tbody>\n</table>\n</div>"
     },
     "metadata": {}
    }
   ]
  },
  {
   "cell_type": "code",
   "metadata": {
    "cell_id": "00012-e6029e1c-9607-45ba-b748-8676aa018547",
    "deepnote_cell_type": "code"
   },
   "source": [],
   "execution_count": null,
   "outputs": []
  }
 ],
 "nbformat": 4,
 "nbformat_minor": 2,
 "metadata": {
  "kernelspec": {
   "display_name": "Python 3",
   "language": "python",
   "name": "python3"
  },
  "language_info": {
   "codemirror_mode": {
    "name": "ipython",
    "version": 3
   },
   "file_extension": ".py",
   "mimetype": "text/x-python",
   "name": "python",
   "nbconvert_exporter": "python",
   "pygments_lexer": "ipython3",
   "version": "3.7.4"
  },
  "deepnote_notebook_id": "529d3663-f400-474c-b5b8-9bc939563e87",
  "deepnote": {},
  "deepnote_execution_queue": []
 }
}