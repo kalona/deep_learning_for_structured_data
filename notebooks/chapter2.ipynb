{
 "cells": [
  {
   "cell_type": "markdown",
   "source": [
    "# Code for Chapter 2 of Deep Learning with Structured Data\n",
    "This notebook contains the code snippets that accompany Chapter 2.\n",
    "\n",
    "Note that this code assumes the following files are in a directory called \"data\" that is a sibling of the directory containing this notebook file:\n",
    "- iriscaps.csv\n",
    "- ttc-streetcar-delay-data-2014.xlsx "
   ],
   "metadata": {
    "cell_id": "00000-448291bc-7c16-41dd-8df7-576269e1b23b",
    "deepnote_cell_type": "markdown"
   }
  },
  {
   "cell_type": "code",
   "metadata": {
    "cell_id": "00001-3a8ffdf3-4974-48cb-9251-5483709ae0f8",
    "deepnote_to_be_reexecuted": false,
    "source_hash": "b1f8c844",
    "execution_millis": 0,
    "execution_start": 1621876134506,
    "deepnote_cell_type": "code"
   },
   "source": "# get the directory for that this notebook is in\nimport os\nrawpath = os.getcwd()\nprint(\"raw path is\",rawpath)",
   "outputs": [
    {
     "name": "stdout",
     "text": "raw path is /work/deep_learning_for_structured_data/notebooks\n",
     "output_type": "stream"
    }
   ],
   "execution_count": null
  },
  {
   "cell_type": "code",
   "metadata": {
    "cell_id": "00002-b27c16ad-e145-4ada-8d98-389c7112ddbb",
    "deepnote_to_be_reexecuted": false,
    "source_hash": "f3757c94",
    "execution_millis": 0,
    "execution_start": 1621876135697,
    "deepnote_cell_type": "code"
   },
   "source": "# data is in a directory called \"data\" that is a sibling to the directory containing the notebook\n# this code assumes you have copied to this directory all the XLS files from the source dataset: https://www.toronto.ca/city-government/data-research-maps/open-data/open-data-catalogue/#e8f359f0-2f47-3058-bf64-6ec488de52da\npath = os.path.abspath(os.path.join(rawpath, '..', 'data'))\nprint(\"path is\", path)",
   "outputs": [
    {
     "name": "stdout",
     "text": "path is /work/deep_learning_for_structured_data/data\n",
     "output_type": "stream"
    }
   ],
   "execution_count": null
  },
  {
   "cell_type": "code",
   "metadata": {
    "cell_id": "00003-7dedfab6-ef15-413d-bd15-862b78a8beb9",
    "deepnote_to_be_reexecuted": false,
    "source_hash": "837275f5",
    "execution_millis": 254,
    "execution_start": 1621876141154,
    "deepnote_cell_type": "code"
   },
   "source": "# import pandas library\nimport pandas as pd\n# raw github URL for Iris dataset\nurl=\"https://gist.githubusercontent.com/curran/a08a1080b88344b0c8a7/raw/d546eaee765268bf2f487608c537c05e22e4b221/iris.csv\"\n# read the contents of the URL into a Pandas dataframe\niris_dataframe=pd.read_csv(url)\n# display the first few rows from the new dataframe\niris_dataframe.head()\n",
   "outputs": [
    {
     "output_type": "execute_result",
     "execution_count": 5,
     "data": {
      "application/vnd.deepnote.dataframe.v2+json": {
       "row_count": 5,
       "column_count": 5,
       "columns": [
        {
         "name": "sepal_length",
         "dtype": "float64",
         "stats": {
          "unique_count": 5,
          "nan_count": 0,
          "min": "4.6",
          "max": "5.1",
          "histogram": [
           {
            "bin_start": 4.6,
            "bin_end": 4.6499999999999995,
            "count": 1
           },
           {
            "bin_start": 4.6499999999999995,
            "bin_end": 4.699999999999999,
            "count": 0
           },
           {
            "bin_start": 4.699999999999999,
            "bin_end": 4.75,
            "count": 1
           },
           {
            "bin_start": 4.75,
            "bin_end": 4.8,
            "count": 0
           },
           {
            "bin_start": 4.8,
            "bin_end": 4.85,
            "count": 0
           },
           {
            "bin_start": 4.85,
            "bin_end": 4.8999999999999995,
            "count": 0
           },
           {
            "bin_start": 4.8999999999999995,
            "bin_end": 4.949999999999999,
            "count": 1
           },
           {
            "bin_start": 4.949999999999999,
            "bin_end": 5,
            "count": 0
           },
           {
            "bin_start": 5,
            "bin_end": 5.05,
            "count": 1
           },
           {
            "bin_start": 5.05,
            "bin_end": 5.1,
            "count": 1
           }
          ]
         }
        },
        {
         "name": "sepal_width",
         "dtype": "float64",
         "stats": {
          "unique_count": 5,
          "nan_count": 0,
          "min": "3.0",
          "max": "3.6",
          "histogram": [
           {
            "bin_start": 3,
            "bin_end": 3.06,
            "count": 1
           },
           {
            "bin_start": 3.06,
            "bin_end": 3.12,
            "count": 1
           },
           {
            "bin_start": 3.12,
            "bin_end": 3.18,
            "count": 0
           },
           {
            "bin_start": 3.18,
            "bin_end": 3.24,
            "count": 1
           },
           {
            "bin_start": 3.24,
            "bin_end": 3.3,
            "count": 0
           },
           {
            "bin_start": 3.3,
            "bin_end": 3.3600000000000003,
            "count": 0
           },
           {
            "bin_start": 3.3600000000000003,
            "bin_end": 3.42,
            "count": 0
           },
           {
            "bin_start": 3.42,
            "bin_end": 3.48,
            "count": 0
           },
           {
            "bin_start": 3.48,
            "bin_end": 3.54,
            "count": 1
           },
           {
            "bin_start": 3.54,
            "bin_end": 3.6,
            "count": 1
           }
          ]
         }
        },
        {
         "name": "petal_length",
         "dtype": "float64",
         "stats": {
          "unique_count": 3,
          "nan_count": 0,
          "min": "1.3",
          "max": "1.5",
          "histogram": [
           {
            "bin_start": 1.3,
            "bin_end": 1.32,
            "count": 1
           },
           {
            "bin_start": 1.32,
            "bin_end": 1.34,
            "count": 0
           },
           {
            "bin_start": 1.34,
            "bin_end": 1.36,
            "count": 0
           },
           {
            "bin_start": 1.36,
            "bin_end": 1.3800000000000001,
            "count": 0
           },
           {
            "bin_start": 1.3800000000000001,
            "bin_end": 1.4,
            "count": 0
           },
           {
            "bin_start": 1.4,
            "bin_end": 1.42,
            "count": 3
           },
           {
            "bin_start": 1.42,
            "bin_end": 1.44,
            "count": 0
           },
           {
            "bin_start": 1.44,
            "bin_end": 1.46,
            "count": 0
           },
           {
            "bin_start": 1.46,
            "bin_end": 1.48,
            "count": 0
           },
           {
            "bin_start": 1.48,
            "bin_end": 1.5,
            "count": 1
           }
          ]
         }
        },
        {
         "name": "petal_width",
         "dtype": "float64",
         "stats": {
          "unique_count": 1,
          "nan_count": 0,
          "min": "0.2",
          "max": "0.2",
          "histogram": [
           {
            "bin_start": -0.3,
            "bin_end": -0.19999999999999998,
            "count": 0
           },
           {
            "bin_start": -0.19999999999999998,
            "bin_end": -0.09999999999999998,
            "count": 0
           },
           {
            "bin_start": -0.09999999999999998,
            "bin_end": 5.551115123125783e-17,
            "count": 0
           },
           {
            "bin_start": 5.551115123125783e-17,
            "bin_end": 0.10000000000000003,
            "count": 0
           },
           {
            "bin_start": 0.10000000000000003,
            "bin_end": 0.2,
            "count": 0
           },
           {
            "bin_start": 0.2,
            "bin_end": 0.3000000000000001,
            "count": 5
           },
           {
            "bin_start": 0.3000000000000001,
            "bin_end": 0.4000000000000001,
            "count": 0
           },
           {
            "bin_start": 0.4000000000000001,
            "bin_end": 0.5,
            "count": 0
           },
           {
            "bin_start": 0.5,
            "bin_end": 0.6000000000000001,
            "count": 0
           },
           {
            "bin_start": 0.6000000000000001,
            "bin_end": 0.7,
            "count": 0
           }
          ]
         }
        },
        {
         "name": "species",
         "dtype": "object",
         "stats": {
          "unique_count": 1,
          "nan_count": 0,
          "categories": [
           {
            "name": "setosa",
            "count": 5
           }
          ]
         }
        },
        {
         "name": "_deepnote_index_column",
         "dtype": "int64"
        }
       ],
       "rows_top": [
        {
         "sepal_length": 5.1,
         "sepal_width": 3.5,
         "petal_length": 1.4,
         "petal_width": 0.2,
         "species": "setosa",
         "_deepnote_index_column": 0
        },
        {
         "sepal_length": 4.9,
         "sepal_width": 3,
         "petal_length": 1.4,
         "petal_width": 0.2,
         "species": "setosa",
         "_deepnote_index_column": 1
        },
        {
         "sepal_length": 4.7,
         "sepal_width": 3.2,
         "petal_length": 1.3,
         "petal_width": 0.2,
         "species": "setosa",
         "_deepnote_index_column": 2
        },
        {
         "sepal_length": 4.6,
         "sepal_width": 3.1,
         "petal_length": 1.5,
         "petal_width": 0.2,
         "species": "setosa",
         "_deepnote_index_column": 3
        },
        {
         "sepal_length": 5,
         "sepal_width": 3.6,
         "petal_length": 1.4,
         "petal_width": 0.2,
         "species": "setosa",
         "_deepnote_index_column": 4
        }
       ],
       "rows_bottom": null
      },
      "text/plain": "   sepal_length  sepal_width  petal_length  petal_width species\n0           5.1          3.5           1.4          0.2  setosa\n1           4.9          3.0           1.4          0.2  setosa\n2           4.7          3.2           1.3          0.2  setosa\n3           4.6          3.1           1.5          0.2  setosa\n4           5.0          3.6           1.4          0.2  setosa",
      "text/html": "<div>\n<style scoped>\n    .dataframe tbody tr th:only-of-type {\n        vertical-align: middle;\n    }\n\n    .dataframe tbody tr th {\n        vertical-align: top;\n    }\n\n    .dataframe thead th {\n        text-align: right;\n    }\n</style>\n<table border=\"1\" class=\"dataframe\">\n  <thead>\n    <tr style=\"text-align: right;\">\n      <th></th>\n      <th>sepal_length</th>\n      <th>sepal_width</th>\n      <th>petal_length</th>\n      <th>petal_width</th>\n      <th>species</th>\n    </tr>\n  </thead>\n  <tbody>\n    <tr>\n      <th>0</th>\n      <td>5.1</td>\n      <td>3.5</td>\n      <td>1.4</td>\n      <td>0.2</td>\n      <td>setosa</td>\n    </tr>\n    <tr>\n      <th>1</th>\n      <td>4.9</td>\n      <td>3.0</td>\n      <td>1.4</td>\n      <td>0.2</td>\n      <td>setosa</td>\n    </tr>\n    <tr>\n      <th>2</th>\n      <td>4.7</td>\n      <td>3.2</td>\n      <td>1.3</td>\n      <td>0.2</td>\n      <td>setosa</td>\n    </tr>\n    <tr>\n      <th>3</th>\n      <td>4.6</td>\n      <td>3.1</td>\n      <td>1.5</td>\n      <td>0.2</td>\n      <td>setosa</td>\n    </tr>\n    <tr>\n      <th>4</th>\n      <td>5.0</td>\n      <td>3.6</td>\n      <td>1.4</td>\n      <td>0.2</td>\n      <td>setosa</td>\n    </tr>\n  </tbody>\n</table>\n</div>"
     },
     "metadata": {}
    }
   ],
   "execution_count": null
  },
  {
   "cell_type": "code",
   "metadata": {
    "cell_id": "00004-f06976c5-8a84-482f-915c-fa2eca7b9756",
    "deepnote_to_be_reexecuted": false,
    "source_hash": "9506467",
    "execution_millis": 6,
    "execution_start": 1621876143199,
    "deepnote_cell_type": "code"
   },
   "source": "iris_dataframe.shape[0]",
   "outputs": [
    {
     "output_type": "execute_result",
     "execution_count": 6,
     "data": {
      "text/plain": "150"
     },
     "metadata": {}
    }
   ],
   "execution_count": null
  },
  {
   "cell_type": "code",
   "metadata": {
    "cell_id": "00005-b48f7bd3-3805-4bef-a7bb-67b5bd470907",
    "deepnote_to_be_reexecuted": false,
    "source_hash": "6b2d895f",
    "execution_millis": 7,
    "execution_start": 1621876144159,
    "deepnote_cell_type": "code"
   },
   "source": "setosa_frame = iris_dataframe[iris_dataframe[\"species\"] == 'setosa']\nsetosa_frame.head()",
   "outputs": [
    {
     "output_type": "execute_result",
     "execution_count": 7,
     "data": {
      "application/vnd.deepnote.dataframe.v2+json": {
       "row_count": 5,
       "column_count": 5,
       "columns": [
        {
         "name": "sepal_length",
         "dtype": "float64",
         "stats": {
          "unique_count": 5,
          "nan_count": 0,
          "min": "4.6",
          "max": "5.1",
          "histogram": [
           {
            "bin_start": 4.6,
            "bin_end": 4.6499999999999995,
            "count": 1
           },
           {
            "bin_start": 4.6499999999999995,
            "bin_end": 4.699999999999999,
            "count": 0
           },
           {
            "bin_start": 4.699999999999999,
            "bin_end": 4.75,
            "count": 1
           },
           {
            "bin_start": 4.75,
            "bin_end": 4.8,
            "count": 0
           },
           {
            "bin_start": 4.8,
            "bin_end": 4.85,
            "count": 0
           },
           {
            "bin_start": 4.85,
            "bin_end": 4.8999999999999995,
            "count": 0
           },
           {
            "bin_start": 4.8999999999999995,
            "bin_end": 4.949999999999999,
            "count": 1
           },
           {
            "bin_start": 4.949999999999999,
            "bin_end": 5,
            "count": 0
           },
           {
            "bin_start": 5,
            "bin_end": 5.05,
            "count": 1
           },
           {
            "bin_start": 5.05,
            "bin_end": 5.1,
            "count": 1
           }
          ]
         }
        },
        {
         "name": "sepal_width",
         "dtype": "float64",
         "stats": {
          "unique_count": 5,
          "nan_count": 0,
          "min": "3.0",
          "max": "3.6",
          "histogram": [
           {
            "bin_start": 3,
            "bin_end": 3.06,
            "count": 1
           },
           {
            "bin_start": 3.06,
            "bin_end": 3.12,
            "count": 1
           },
           {
            "bin_start": 3.12,
            "bin_end": 3.18,
            "count": 0
           },
           {
            "bin_start": 3.18,
            "bin_end": 3.24,
            "count": 1
           },
           {
            "bin_start": 3.24,
            "bin_end": 3.3,
            "count": 0
           },
           {
            "bin_start": 3.3,
            "bin_end": 3.3600000000000003,
            "count": 0
           },
           {
            "bin_start": 3.3600000000000003,
            "bin_end": 3.42,
            "count": 0
           },
           {
            "bin_start": 3.42,
            "bin_end": 3.48,
            "count": 0
           },
           {
            "bin_start": 3.48,
            "bin_end": 3.54,
            "count": 1
           },
           {
            "bin_start": 3.54,
            "bin_end": 3.6,
            "count": 1
           }
          ]
         }
        },
        {
         "name": "petal_length",
         "dtype": "float64",
         "stats": {
          "unique_count": 3,
          "nan_count": 0,
          "min": "1.3",
          "max": "1.5",
          "histogram": [
           {
            "bin_start": 1.3,
            "bin_end": 1.32,
            "count": 1
           },
           {
            "bin_start": 1.32,
            "bin_end": 1.34,
            "count": 0
           },
           {
            "bin_start": 1.34,
            "bin_end": 1.36,
            "count": 0
           },
           {
            "bin_start": 1.36,
            "bin_end": 1.3800000000000001,
            "count": 0
           },
           {
            "bin_start": 1.3800000000000001,
            "bin_end": 1.4,
            "count": 0
           },
           {
            "bin_start": 1.4,
            "bin_end": 1.42,
            "count": 3
           },
           {
            "bin_start": 1.42,
            "bin_end": 1.44,
            "count": 0
           },
           {
            "bin_start": 1.44,
            "bin_end": 1.46,
            "count": 0
           },
           {
            "bin_start": 1.46,
            "bin_end": 1.48,
            "count": 0
           },
           {
            "bin_start": 1.48,
            "bin_end": 1.5,
            "count": 1
           }
          ]
         }
        },
        {
         "name": "petal_width",
         "dtype": "float64",
         "stats": {
          "unique_count": 1,
          "nan_count": 0,
          "min": "0.2",
          "max": "0.2",
          "histogram": [
           {
            "bin_start": -0.3,
            "bin_end": -0.19999999999999998,
            "count": 0
           },
           {
            "bin_start": -0.19999999999999998,
            "bin_end": -0.09999999999999998,
            "count": 0
           },
           {
            "bin_start": -0.09999999999999998,
            "bin_end": 5.551115123125783e-17,
            "count": 0
           },
           {
            "bin_start": 5.551115123125783e-17,
            "bin_end": 0.10000000000000003,
            "count": 0
           },
           {
            "bin_start": 0.10000000000000003,
            "bin_end": 0.2,
            "count": 0
           },
           {
            "bin_start": 0.2,
            "bin_end": 0.3000000000000001,
            "count": 5
           },
           {
            "bin_start": 0.3000000000000001,
            "bin_end": 0.4000000000000001,
            "count": 0
           },
           {
            "bin_start": 0.4000000000000001,
            "bin_end": 0.5,
            "count": 0
           },
           {
            "bin_start": 0.5,
            "bin_end": 0.6000000000000001,
            "count": 0
           },
           {
            "bin_start": 0.6000000000000001,
            "bin_end": 0.7,
            "count": 0
           }
          ]
         }
        },
        {
         "name": "species",
         "dtype": "object",
         "stats": {
          "unique_count": 1,
          "nan_count": 0,
          "categories": [
           {
            "name": "setosa",
            "count": 5
           }
          ]
         }
        },
        {
         "name": "_deepnote_index_column",
         "dtype": "int64"
        }
       ],
       "rows_top": [
        {
         "sepal_length": 5.1,
         "sepal_width": 3.5,
         "petal_length": 1.4,
         "petal_width": 0.2,
         "species": "setosa",
         "_deepnote_index_column": 0
        },
        {
         "sepal_length": 4.9,
         "sepal_width": 3,
         "petal_length": 1.4,
         "petal_width": 0.2,
         "species": "setosa",
         "_deepnote_index_column": 1
        },
        {
         "sepal_length": 4.7,
         "sepal_width": 3.2,
         "petal_length": 1.3,
         "petal_width": 0.2,
         "species": "setosa",
         "_deepnote_index_column": 2
        },
        {
         "sepal_length": 4.6,
         "sepal_width": 3.1,
         "petal_length": 1.5,
         "petal_width": 0.2,
         "species": "setosa",
         "_deepnote_index_column": 3
        },
        {
         "sepal_length": 5,
         "sepal_width": 3.6,
         "petal_length": 1.4,
         "petal_width": 0.2,
         "species": "setosa",
         "_deepnote_index_column": 4
        }
       ],
       "rows_bottom": null
      },
      "text/plain": "   sepal_length  sepal_width  petal_length  petal_width species\n0           5.1          3.5           1.4          0.2  setosa\n1           4.9          3.0           1.4          0.2  setosa\n2           4.7          3.2           1.3          0.2  setosa\n3           4.6          3.1           1.5          0.2  setosa\n4           5.0          3.6           1.4          0.2  setosa",
      "text/html": "<div>\n<style scoped>\n    .dataframe tbody tr th:only-of-type {\n        vertical-align: middle;\n    }\n\n    .dataframe tbody tr th {\n        vertical-align: top;\n    }\n\n    .dataframe thead th {\n        text-align: right;\n    }\n</style>\n<table border=\"1\" class=\"dataframe\">\n  <thead>\n    <tr style=\"text-align: right;\">\n      <th></th>\n      <th>sepal_length</th>\n      <th>sepal_width</th>\n      <th>petal_length</th>\n      <th>petal_width</th>\n      <th>species</th>\n    </tr>\n  </thead>\n  <tbody>\n    <tr>\n      <th>0</th>\n      <td>5.1</td>\n      <td>3.5</td>\n      <td>1.4</td>\n      <td>0.2</td>\n      <td>setosa</td>\n    </tr>\n    <tr>\n      <th>1</th>\n      <td>4.9</td>\n      <td>3.0</td>\n      <td>1.4</td>\n      <td>0.2</td>\n      <td>setosa</td>\n    </tr>\n    <tr>\n      <th>2</th>\n      <td>4.7</td>\n      <td>3.2</td>\n      <td>1.3</td>\n      <td>0.2</td>\n      <td>setosa</td>\n    </tr>\n    <tr>\n      <th>3</th>\n      <td>4.6</td>\n      <td>3.1</td>\n      <td>1.5</td>\n      <td>0.2</td>\n      <td>setosa</td>\n    </tr>\n    <tr>\n      <th>4</th>\n      <td>5.0</td>\n      <td>3.6</td>\n      <td>1.4</td>\n      <td>0.2</td>\n      <td>setosa</td>\n    </tr>\n  </tbody>\n</table>\n</div>"
     },
     "metadata": {}
    }
   ],
   "execution_count": null
  },
  {
   "cell_type": "code",
   "metadata": {
    "cell_id": "00006-20410bca-f5a0-4431-8c40-356bae25b816",
    "deepnote_to_be_reexecuted": false,
    "source_hash": "6be35de",
    "execution_millis": 11,
    "execution_start": 1621876147480,
    "deepnote_cell_type": "code"
   },
   "source": "iris_dataframe[iris_dataframe[\"species\"] == 'setosa'].shape[0] ",
   "outputs": [
    {
     "output_type": "execute_result",
     "execution_count": 8,
     "data": {
      "text/plain": "50"
     },
     "metadata": {}
    }
   ],
   "execution_count": null
  },
  {
   "cell_type": "code",
   "metadata": {
    "cell_id": "00007-d7a3aa6c-2006-4947-b712-e9baf8b8a916",
    "deepnote_to_be_reexecuted": false,
    "source_hash": "ecd1ec07",
    "execution_millis": 26,
    "execution_start": 1621876150018,
    "deepnote_cell_type": "code"
   },
   "source": "# import pandas library\nimport pandas as pd\n# define the base path and the file name - update the path value to the path for your data files\nfile = \"iriscaps.csv\"\n# read the contents of the file into a Pandas dataframe\niris_dataframe=pd.read_csv(os.path.join(path,file))\n# display the first few rows from the new dataframe\niris_dataframe.head()",
   "outputs": [
    {
     "output_type": "execute_result",
     "execution_count": 9,
     "data": {
      "application/vnd.deepnote.dataframe.v2+json": {
       "row_count": 5,
       "column_count": 5,
       "columns": [
        {
         "name": "sepal_length",
         "dtype": "float64",
         "stats": {
          "unique_count": 5,
          "nan_count": 0,
          "min": "4.6",
          "max": "5.1",
          "histogram": [
           {
            "bin_start": 4.6,
            "bin_end": 4.6499999999999995,
            "count": 1
           },
           {
            "bin_start": 4.6499999999999995,
            "bin_end": 4.699999999999999,
            "count": 0
           },
           {
            "bin_start": 4.699999999999999,
            "bin_end": 4.75,
            "count": 1
           },
           {
            "bin_start": 4.75,
            "bin_end": 4.8,
            "count": 0
           },
           {
            "bin_start": 4.8,
            "bin_end": 4.85,
            "count": 0
           },
           {
            "bin_start": 4.85,
            "bin_end": 4.8999999999999995,
            "count": 0
           },
           {
            "bin_start": 4.8999999999999995,
            "bin_end": 4.949999999999999,
            "count": 1
           },
           {
            "bin_start": 4.949999999999999,
            "bin_end": 5,
            "count": 0
           },
           {
            "bin_start": 5,
            "bin_end": 5.05,
            "count": 1
           },
           {
            "bin_start": 5.05,
            "bin_end": 5.1,
            "count": 1
           }
          ]
         }
        },
        {
         "name": "sepal_width",
         "dtype": "float64",
         "stats": {
          "unique_count": 5,
          "nan_count": 0,
          "min": "3.0",
          "max": "3.6",
          "histogram": [
           {
            "bin_start": 3,
            "bin_end": 3.06,
            "count": 1
           },
           {
            "bin_start": 3.06,
            "bin_end": 3.12,
            "count": 1
           },
           {
            "bin_start": 3.12,
            "bin_end": 3.18,
            "count": 0
           },
           {
            "bin_start": 3.18,
            "bin_end": 3.24,
            "count": 1
           },
           {
            "bin_start": 3.24,
            "bin_end": 3.3,
            "count": 0
           },
           {
            "bin_start": 3.3,
            "bin_end": 3.3600000000000003,
            "count": 0
           },
           {
            "bin_start": 3.3600000000000003,
            "bin_end": 3.42,
            "count": 0
           },
           {
            "bin_start": 3.42,
            "bin_end": 3.48,
            "count": 0
           },
           {
            "bin_start": 3.48,
            "bin_end": 3.54,
            "count": 1
           },
           {
            "bin_start": 3.54,
            "bin_end": 3.6,
            "count": 1
           }
          ]
         }
        },
        {
         "name": "petal_length",
         "dtype": "float64",
         "stats": {
          "unique_count": 3,
          "nan_count": 0,
          "min": "1.3",
          "max": "1.5",
          "histogram": [
           {
            "bin_start": 1.3,
            "bin_end": 1.32,
            "count": 1
           },
           {
            "bin_start": 1.32,
            "bin_end": 1.34,
            "count": 0
           },
           {
            "bin_start": 1.34,
            "bin_end": 1.36,
            "count": 0
           },
           {
            "bin_start": 1.36,
            "bin_end": 1.3800000000000001,
            "count": 0
           },
           {
            "bin_start": 1.3800000000000001,
            "bin_end": 1.4,
            "count": 0
           },
           {
            "bin_start": 1.4,
            "bin_end": 1.42,
            "count": 3
           },
           {
            "bin_start": 1.42,
            "bin_end": 1.44,
            "count": 0
           },
           {
            "bin_start": 1.44,
            "bin_end": 1.46,
            "count": 0
           },
           {
            "bin_start": 1.46,
            "bin_end": 1.48,
            "count": 0
           },
           {
            "bin_start": 1.48,
            "bin_end": 1.5,
            "count": 1
           }
          ]
         }
        },
        {
         "name": "petal_width",
         "dtype": "float64",
         "stats": {
          "unique_count": 1,
          "nan_count": 0,
          "min": "0.2",
          "max": "0.2",
          "histogram": [
           {
            "bin_start": -0.3,
            "bin_end": -0.19999999999999998,
            "count": 0
           },
           {
            "bin_start": -0.19999999999999998,
            "bin_end": -0.09999999999999998,
            "count": 0
           },
           {
            "bin_start": -0.09999999999999998,
            "bin_end": 5.551115123125783e-17,
            "count": 0
           },
           {
            "bin_start": 5.551115123125783e-17,
            "bin_end": 0.10000000000000003,
            "count": 0
           },
           {
            "bin_start": 0.10000000000000003,
            "bin_end": 0.2,
            "count": 0
           },
           {
            "bin_start": 0.2,
            "bin_end": 0.3000000000000001,
            "count": 5
           },
           {
            "bin_start": 0.3000000000000001,
            "bin_end": 0.4000000000000001,
            "count": 0
           },
           {
            "bin_start": 0.4000000000000001,
            "bin_end": 0.5,
            "count": 0
           },
           {
            "bin_start": 0.5,
            "bin_end": 0.6000000000000001,
            "count": 0
           },
           {
            "bin_start": 0.6000000000000001,
            "bin_end": 0.7,
            "count": 0
           }
          ]
         }
        },
        {
         "name": "species",
         "dtype": "object",
         "stats": {
          "unique_count": 1,
          "nan_count": 0,
          "categories": [
           {
            "name": "Setosa",
            "count": 5
           }
          ]
         }
        },
        {
         "name": "_deepnote_index_column",
         "dtype": "int64"
        }
       ],
       "rows_top": [
        {
         "sepal_length": 5.1,
         "sepal_width": 3.5,
         "petal_length": 1.4,
         "petal_width": 0.2,
         "species": "Setosa",
         "_deepnote_index_column": 0
        },
        {
         "sepal_length": 4.9,
         "sepal_width": 3,
         "petal_length": 1.4,
         "petal_width": 0.2,
         "species": "Setosa",
         "_deepnote_index_column": 1
        },
        {
         "sepal_length": 4.7,
         "sepal_width": 3.2,
         "petal_length": 1.3,
         "petal_width": 0.2,
         "species": "Setosa",
         "_deepnote_index_column": 2
        },
        {
         "sepal_length": 4.6,
         "sepal_width": 3.1,
         "petal_length": 1.5,
         "petal_width": 0.2,
         "species": "Setosa",
         "_deepnote_index_column": 3
        },
        {
         "sepal_length": 5,
         "sepal_width": 3.6,
         "petal_length": 1.4,
         "petal_width": 0.2,
         "species": "Setosa",
         "_deepnote_index_column": 4
        }
       ],
       "rows_bottom": null
      },
      "text/plain": "   sepal_length  sepal_width  petal_length  petal_width species\n0           5.1          3.5           1.4          0.2  Setosa\n1           4.9          3.0           1.4          0.2  Setosa\n2           4.7          3.2           1.3          0.2  Setosa\n3           4.6          3.1           1.5          0.2  Setosa\n4           5.0          3.6           1.4          0.2  Setosa",
      "text/html": "<div>\n<style scoped>\n    .dataframe tbody tr th:only-of-type {\n        vertical-align: middle;\n    }\n\n    .dataframe tbody tr th {\n        vertical-align: top;\n    }\n\n    .dataframe thead th {\n        text-align: right;\n    }\n</style>\n<table border=\"1\" class=\"dataframe\">\n  <thead>\n    <tr style=\"text-align: right;\">\n      <th></th>\n      <th>sepal_length</th>\n      <th>sepal_width</th>\n      <th>petal_length</th>\n      <th>petal_width</th>\n      <th>species</th>\n    </tr>\n  </thead>\n  <tbody>\n    <tr>\n      <th>0</th>\n      <td>5.1</td>\n      <td>3.5</td>\n      <td>1.4</td>\n      <td>0.2</td>\n      <td>Setosa</td>\n    </tr>\n    <tr>\n      <th>1</th>\n      <td>4.9</td>\n      <td>3.0</td>\n      <td>1.4</td>\n      <td>0.2</td>\n      <td>Setosa</td>\n    </tr>\n    <tr>\n      <th>2</th>\n      <td>4.7</td>\n      <td>3.2</td>\n      <td>1.3</td>\n      <td>0.2</td>\n      <td>Setosa</td>\n    </tr>\n    <tr>\n      <th>3</th>\n      <td>4.6</td>\n      <td>3.1</td>\n      <td>1.5</td>\n      <td>0.2</td>\n      <td>Setosa</td>\n    </tr>\n    <tr>\n      <th>4</th>\n      <td>5.0</td>\n      <td>3.6</td>\n      <td>1.4</td>\n      <td>0.2</td>\n      <td>Setosa</td>\n    </tr>\n  </tbody>\n</table>\n</div>"
     },
     "metadata": {}
    }
   ],
   "execution_count": null
  },
  {
   "cell_type": "code",
   "metadata": {
    "cell_id": "00008-4550d5bd-78a9-47e5-bc3c-2e32f4b10c81",
    "deepnote_to_be_reexecuted": false,
    "source_hash": "4689bb76",
    "execution_millis": 3368,
    "execution_start": 1621876015348,
    "output_cleared": true,
    "deepnote_cell_type": "code"
   },
   "source": "# Use openpyxl instead as xlrd support for .xlsx files is deprecated\n# !pip install xlrd==1.2.0\n!pip install openpyxl",
   "execution_count": null,
   "outputs": []
  },
  {
   "cell_type": "code",
   "metadata": {
    "cell_id": "00009-34fed392-71b3-496b-ad89-5cb85323f6c2",
    "deepnote_to_be_reexecuted": false,
    "source_hash": "2e7e159b",
    "execution_millis": 3472,
    "execution_start": 1621876157509,
    "output_cleared": false,
    "deepnote_cell_type": "code"
   },
   "source": "# import pandas library\nimport pandas as pd\n# define the base path and the file name\nfile = \"ttc-streetcar-delay-data-2014.xlsx\"\n# load meta data about the Excel file\nxlsf = pd.ExcelFile(os.path.join(path,file))\n# load the first sheet of the Excel file into a dataframe\ndf = pd.read_excel(os.path.join(path,file),sheet_name=xlsf.sheet_names[0])\n# iterate through the remaining sheets appending their contents onto the dataframe\nfor sheet_name in xlsf.sheet_names[1:]:\n    print(\"sheet_name\",sheet_name)\n    # load the current sheet into a dataframe\n    data = pd.read_excel(os.path.join(path,file),sheet_name=sheet_name)\n    # append this dataframe onto the aggregated dataframe\n    df = df.append(data)\n",
   "outputs": [
    {
     "name": "stdout",
     "text": "sheet_name Feb 2014\nsheet_name Mar 2014\nsheet_name Apr 2014\nsheet_name May 2014\nsheet_name Jun 2014\nsheet_name July 2014\nsheet_name Aug 2014\nsheet_name Sept 2014\nsheet_name Oct 2014\nsheet_name Nov 2014\nsheet_name Dec 2014\n",
     "output_type": "stream"
    }
   ],
   "execution_count": null
  },
  {
   "cell_type": "code",
   "metadata": {
    "cell_id": "00010-c38b777f-fb54-44d1-a983-20d6c0e03b9d",
    "deepnote_to_be_reexecuted": false,
    "source_hash": "14f60b8f",
    "execution_start": 1621876186480,
    "execution_millis": 6,
    "deepnote_cell_type": "code"
   },
   "source": "df.shape",
   "outputs": [
    {
     "output_type": "execute_result",
     "execution_count": 11,
     "data": {
      "text/plain": "(11027, 10)"
     },
     "metadata": {}
    }
   ],
   "execution_count": null
  },
  {
   "cell_type": "code",
   "metadata": {
    "cell_id": "00011-8c41f43c-00a3-459c-9230-71b6273d3914",
    "deepnote_to_be_reexecuted": false,
    "source_hash": "c085b6ba",
    "execution_start": 1618588375195,
    "execution_millis": 119,
    "deepnote_cell_type": "code"
   },
   "source": [
    "df.head()"
   ],
   "execution_count": null,
   "outputs": [
    {
     "name": "stderr",
     "text": "/shared-libs/python3.7/py/lib/python3.7/site-packages/numpy/lib/histograms.py:822: RuntimeWarning: divide by zero encountered in double_scalars\n  norm = n_equal_bins / _unsigned_subtract(last_edge, first_edge)\n/shared-libs/python3.7/py/lib/python3.7/site-packages/numpy/lib/histograms.py:850: RuntimeWarning: invalid value encountered in multiply\n  f_indices = _unsigned_subtract(tmp_a, first_edge) * norm\n",
     "output_type": "stream"
    },
    {
     "output_type": "execute_result",
     "execution_count": 10,
     "data": {
      "application/vnd.deepnote.dataframe.v2+json": {
       "row_count": 5,
       "column_count": 10,
       "columns": [
        {
         "name": "Report Date",
         "dtype": "datetime64[ns]",
         "stats": {
          "unique_count": 1,
          "nan_count": 0,
          "min": "2014-01-02 00:00:00",
          "max": "2014-01-02 00:00:00",
          "histogram": null
         }
        },
        {
         "name": "Route",
         "dtype": "int64",
         "stats": {
          "unique_count": 3,
          "nan_count": 0,
          "min": "501",
          "max": "505",
          "histogram": [
           {
            "bin_start": 501,
            "bin_end": 501.4,
            "count": 1
           },
           {
            "bin_start": 501.4,
            "bin_end": 501.8,
            "count": 0
           },
           {
            "bin_start": 501.8,
            "bin_end": 502.2,
            "count": 0
           },
           {
            "bin_start": 502.2,
            "bin_end": 502.6,
            "count": 0
           },
           {
            "bin_start": 502.6,
            "bin_end": 503,
            "count": 0
           },
           {
            "bin_start": 503,
            "bin_end": 503.4,
            "count": 0
           },
           {
            "bin_start": 503.4,
            "bin_end": 503.8,
            "count": 0
           },
           {
            "bin_start": 503.8,
            "bin_end": 504.2,
            "count": 3
           },
           {
            "bin_start": 504.2,
            "bin_end": 504.6,
            "count": 0
           },
           {
            "bin_start": 504.6,
            "bin_end": 505,
            "count": 1
           }
          ]
         }
        },
        {
         "name": "Time",
         "dtype": "object",
         "stats": {
          "unique_count": 5,
          "nan_count": 0,
          "categories": [
           {
            "name": "06:31:00",
            "count": 1
           },
           {
            "name": "12:43:00",
            "count": 1
           },
           {
            "name": "3 others",
            "count": 3
           }
          ]
         }
        },
        {
         "name": "Day",
         "dtype": "object",
         "stats": {
          "unique_count": 1,
          "nan_count": 0,
          "categories": [
           {
            "name": "Thursday",
            "count": 5
           }
          ]
         }
        },
        {
         "name": "Location",
         "dtype": "object",
         "stats": {
          "unique_count": 5,
          "nan_count": 0,
          "categories": [
           {
            "name": "Dundas and Roncesvalles",
            "count": 1
           },
           {
            "name": "King and Shaw",
            "count": 1
           },
           {
            "name": "3 others",
            "count": 3
           }
          ]
         }
        },
        {
         "name": "Incident",
         "dtype": "object",
         "stats": {
          "unique_count": 4,
          "nan_count": 0,
          "categories": [
           {
            "name": "Utilized Off Route",
            "count": 2
           },
           {
            "name": "Late Leaving Garage",
            "count": 1
           },
           {
            "name": "2 others",
            "count": 2
           }
          ]
         }
        },
        {
         "name": "Min Delay",
         "dtype": "float64",
         "stats": {
          "unique_count": 5,
          "nan_count": 0,
          "min": "3.0",
          "max": "20.0",
          "histogram": [
           {
            "bin_start": 3,
            "bin_end": 4.7,
            "count": 2
           },
           {
            "bin_start": 4.7,
            "bin_end": 6.4,
            "count": 0
           },
           {
            "bin_start": 6.4,
            "bin_end": 8.1,
            "count": 1
           },
           {
            "bin_start": 8.1,
            "bin_end": 9.8,
            "count": 0
           },
           {
            "bin_start": 9.8,
            "bin_end": 11.5,
            "count": 0
           },
           {
            "bin_start": 11.5,
            "bin_end": 13.2,
            "count": 1
           },
           {
            "bin_start": 13.2,
            "bin_end": 14.9,
            "count": 0
           },
           {
            "bin_start": 14.9,
            "bin_end": 16.6,
            "count": 0
           },
           {
            "bin_start": 16.6,
            "bin_end": 18.299999999999997,
            "count": 0
           },
           {
            "bin_start": 18.299999999999997,
            "bin_end": 20,
            "count": 1
           }
          ]
         }
        },
        {
         "name": "Min Gap",
         "dtype": "float64",
         "stats": {
          "unique_count": 5,
          "nan_count": 0,
          "min": "6.0",
          "max": "22.0",
          "histogram": [
           {
            "bin_start": 6,
            "bin_end": 7.6,
            "count": 1
           },
           {
            "bin_start": 7.6,
            "bin_end": 9.2,
            "count": 1
           },
           {
            "bin_start": 9.2,
            "bin_end": 10.8,
            "count": 0
           },
           {
            "bin_start": 10.8,
            "bin_end": 12.4,
            "count": 1
           },
           {
            "bin_start": 12.4,
            "bin_end": 14,
            "count": 0
           },
           {
            "bin_start": 14,
            "bin_end": 15.600000000000001,
            "count": 0
           },
           {
            "bin_start": 15.600000000000001,
            "bin_end": 17.200000000000003,
            "count": 0
           },
           {
            "bin_start": 17.200000000000003,
            "bin_end": 18.8,
            "count": 0
           },
           {
            "bin_start": 18.8,
            "bin_end": 20.4,
            "count": 1
           },
           {
            "bin_start": 20.4,
            "bin_end": 22,
            "count": 1
           }
          ]
         }
        },
        {
         "name": "Direction",
         "dtype": "object",
         "stats": {
          "unique_count": 2,
          "nan_count": 0,
          "categories": [
           {
            "name": "E/B",
            "count": 3
           },
           {
            "name": "W/B",
            "count": 2
           }
          ]
         }
        },
        {
         "name": "Vehicle",
         "dtype": "float64",
         "stats": {
          "unique_count": 5,
          "nan_count": 0,
          "min": "4016.0",
          "max": "4175.0",
          "histogram": [
           {
            "bin_start": 4016,
            "bin_end": 4031.9,
            "count": 2
           },
           {
            "bin_start": 4031.9,
            "bin_end": 4047.8,
            "count": 0
           },
           {
            "bin_start": 4047.8,
            "bin_end": 4063.7,
            "count": 0
           },
           {
            "bin_start": 4063.7,
            "bin_end": 4079.6,
            "count": 0
           },
           {
            "bin_start": 4079.6,
            "bin_end": 4095.5,
            "count": 1
           },
           {
            "bin_start": 4095.5,
            "bin_end": 4111.4,
            "count": 0
           },
           {
            "bin_start": 4111.4,
            "bin_end": 4127.3,
            "count": 0
           },
           {
            "bin_start": 4127.3,
            "bin_end": 4143.2,
            "count": 1
           },
           {
            "bin_start": 4143.2,
            "bin_end": 4159.1,
            "count": 0
           },
           {
            "bin_start": 4159.1,
            "bin_end": 4175,
            "count": 1
           }
          ]
         }
        },
        {
         "name": "_deepnote_index_column",
         "dtype": "int64"
        }
       ],
       "rows_top": [
        {
         "Report Date": "2014-01-02T00:00:00.000000",
         "Route": 505,
         "Time": "06:31:00",
         "Day": "Thursday",
         "Location": "Dundas and Roncesvalles",
         "Incident": "Late Leaving Garage",
         "Min Delay": 4,
         "Min Gap": 8,
         "Direction": "E/B",
         "Vehicle": 4018,
         "_deepnote_index_column": 0
        },
        {
         "Report Date": "2014-01-02T00:00:00.000000",
         "Route": 504,
         "Time": "12:43:00",
         "Day": "Thursday",
         "Location": "King and Shaw",
         "Incident": "Utilized Off Route",
         "Min Delay": 20,
         "Min Gap": 22,
         "Direction": "E/B",
         "Vehicle": 4128,
         "_deepnote_index_column": 1
        },
        {
         "Report Date": "2014-01-02T00:00:00.000000",
         "Route": 501,
         "Time": "14:01:00",
         "Day": "Thursday",
         "Location": "Kingston road and Bingham",
         "Incident": "Held By",
         "Min Delay": 13,
         "Min Gap": 19,
         "Direction": "W/B",
         "Vehicle": 4016,
         "_deepnote_index_column": 2
        },
        {
         "Report Date": "2014-01-02T00:00:00.000000",
         "Route": 504,
         "Time": "14:22:00",
         "Day": "Thursday",
         "Location": "King St. and Roncesvalles Ave.",
         "Incident": "Investigation",
         "Min Delay": 7,
         "Min Gap": 11,
         "Direction": "W/B",
         "Vehicle": 4175,
         "_deepnote_index_column": 3
        },
        {
         "Report Date": "2014-01-02T00:00:00.000000",
         "Route": 504,
         "Time": "16:42:00",
         "Day": "Thursday",
         "Location": "King and Bathurst",
         "Incident": "Utilized Off Route",
         "Min Delay": 3,
         "Min Gap": 6,
         "Direction": "E/B",
         "Vehicle": 4080,
         "_deepnote_index_column": 4
        }
       ],
       "rows_bottom": null
      },
      "text/plain": "  Report Date  Route      Time       Day                        Location  \\\n0  2014-01-02    505  06:31:00  Thursday         Dundas and Roncesvalles   \n1  2014-01-02    504  12:43:00  Thursday                   King and Shaw   \n2  2014-01-02    501  14:01:00  Thursday       Kingston road and Bingham   \n3  2014-01-02    504  14:22:00  Thursday  King St. and Roncesvalles Ave.   \n4  2014-01-02    504  16:42:00  Thursday               King and Bathurst   \n\n              Incident  Min Delay  Min Gap Direction  Vehicle  \n0  Late Leaving Garage        4.0      8.0       E/B   4018.0  \n1   Utilized Off Route       20.0     22.0       E/B   4128.0  \n2              Held By       13.0     19.0       W/B   4016.0  \n3        Investigation        7.0     11.0       W/B   4175.0  \n4   Utilized Off Route        3.0      6.0       E/B   4080.0  ",
      "text/html": "<div>\n<style scoped>\n    .dataframe tbody tr th:only-of-type {\n        vertical-align: middle;\n    }\n\n    .dataframe tbody tr th {\n        vertical-align: top;\n    }\n\n    .dataframe thead th {\n        text-align: right;\n    }\n</style>\n<table border=\"1\" class=\"dataframe\">\n  <thead>\n    <tr style=\"text-align: right;\">\n      <th></th>\n      <th>Report Date</th>\n      <th>Route</th>\n      <th>Time</th>\n      <th>Day</th>\n      <th>Location</th>\n      <th>Incident</th>\n      <th>Min Delay</th>\n      <th>Min Gap</th>\n      <th>Direction</th>\n      <th>Vehicle</th>\n    </tr>\n  </thead>\n  <tbody>\n    <tr>\n      <th>0</th>\n      <td>2014-01-02</td>\n      <td>505</td>\n      <td>06:31:00</td>\n      <td>Thursday</td>\n      <td>Dundas and Roncesvalles</td>\n      <td>Late Leaving Garage</td>\n      <td>4.0</td>\n      <td>8.0</td>\n      <td>E/B</td>\n      <td>4018.0</td>\n    </tr>\n    <tr>\n      <th>1</th>\n      <td>2014-01-02</td>\n      <td>504</td>\n      <td>12:43:00</td>\n      <td>Thursday</td>\n      <td>King and Shaw</td>\n      <td>Utilized Off Route</td>\n      <td>20.0</td>\n      <td>22.0</td>\n      <td>E/B</td>\n      <td>4128.0</td>\n    </tr>\n    <tr>\n      <th>2</th>\n      <td>2014-01-02</td>\n      <td>501</td>\n      <td>14:01:00</td>\n      <td>Thursday</td>\n      <td>Kingston road and Bingham</td>\n      <td>Held By</td>\n      <td>13.0</td>\n      <td>19.0</td>\n      <td>W/B</td>\n      <td>4016.0</td>\n    </tr>\n    <tr>\n      <th>3</th>\n      <td>2014-01-02</td>\n      <td>504</td>\n      <td>14:22:00</td>\n      <td>Thursday</td>\n      <td>King St. and Roncesvalles Ave.</td>\n      <td>Investigation</td>\n      <td>7.0</td>\n      <td>11.0</td>\n      <td>W/B</td>\n      <td>4175.0</td>\n    </tr>\n    <tr>\n      <th>4</th>\n      <td>2014-01-02</td>\n      <td>504</td>\n      <td>16:42:00</td>\n      <td>Thursday</td>\n      <td>King and Bathurst</td>\n      <td>Utilized Off Route</td>\n      <td>3.0</td>\n      <td>6.0</td>\n      <td>E/B</td>\n      <td>4080.0</td>\n    </tr>\n  </tbody>\n</table>\n</div>"
     },
     "metadata": {}
    }
   ]
  },
  {
   "cell_type": "code",
   "metadata": {
    "scrolled": true,
    "cell_id": "00012-f43be143-63c4-49d1-9e35-ab5220535834",
    "deepnote_to_be_reexecuted": false,
    "source_hash": "838c0c28",
    "execution_millis": 7,
    "execution_start": 1618588415858,
    "deepnote_cell_type": "code"
   },
   "source": [
    "df.tail()"
   ],
   "execution_count": null,
   "outputs": [
    {
     "name": "stderr",
     "text": "/shared-libs/python3.7/py/lib/python3.7/site-packages/numpy/lib/histograms.py:822: RuntimeWarning: divide by zero encountered in double_scalars\n  norm = n_equal_bins / _unsigned_subtract(last_edge, first_edge)\n/shared-libs/python3.7/py/lib/python3.7/site-packages/numpy/lib/histograms.py:850: RuntimeWarning: invalid value encountered in multiply\n  f_indices = _unsigned_subtract(tmp_a, first_edge) * norm\n",
     "output_type": "stream"
    },
    {
     "output_type": "execute_result",
     "execution_count": 12,
     "data": {
      "application/vnd.deepnote.dataframe.v2+json": {
       "row_count": 5,
       "column_count": 10,
       "columns": [
        {
         "name": "Report Date",
         "dtype": "datetime64[ns]",
         "stats": {
          "unique_count": 1,
          "nan_count": 0,
          "min": "2014-12-31 00:00:00",
          "max": "2014-12-31 00:00:00",
          "histogram": null
         }
        },
        {
         "name": "Route",
         "dtype": "int64",
         "stats": {
          "unique_count": 4,
          "nan_count": 0,
          "min": "504",
          "max": "511",
          "histogram": [
           {
            "bin_start": 504,
            "bin_end": 504.7,
            "count": 2
           },
           {
            "bin_start": 504.7,
            "bin_end": 505.4,
            "count": 1
           },
           {
            "bin_start": 505.4,
            "bin_end": 506.1,
            "count": 0
           },
           {
            "bin_start": 506.1,
            "bin_end": 506.8,
            "count": 0
           },
           {
            "bin_start": 506.8,
            "bin_end": 507.5,
            "count": 0
           },
           {
            "bin_start": 507.5,
            "bin_end": 508.2,
            "count": 0
           },
           {
            "bin_start": 508.2,
            "bin_end": 508.9,
            "count": 0
           },
           {
            "bin_start": 508.9,
            "bin_end": 509.6,
            "count": 1
           },
           {
            "bin_start": 509.6,
            "bin_end": 510.3,
            "count": 0
           },
           {
            "bin_start": 510.3,
            "bin_end": 511,
            "count": 1
           }
          ]
         }
        },
        {
         "name": "Time",
         "dtype": "object",
         "stats": {
          "unique_count": 5,
          "nan_count": 0,
          "categories": [
           {
            "name": "22:30:00",
            "count": 1
           },
           {
            "name": "22:54:00",
            "count": 1
           },
           {
            "name": "3 others",
            "count": 3
           }
          ]
         }
        },
        {
         "name": "Day",
         "dtype": "object",
         "stats": {
          "unique_count": 1,
          "nan_count": 0,
          "categories": [
           {
            "name": "Wednesday",
            "count": 5
           }
          ]
         }
        },
        {
         "name": "Location",
         "dtype": "object",
         "stats": {
          "unique_count": 5,
          "nan_count": 0,
          "categories": [
           {
            "name": "Union Loop to Exhibition Loop",
            "count": 1
           },
           {
            "name": "King and Dunn",
            "count": 1
           },
           {
            "name": "3 others",
            "count": 3
           }
          ]
         }
        },
        {
         "name": "Incident",
         "dtype": "object",
         "stats": {
          "unique_count": 3,
          "nan_count": 0,
          "categories": [
           {
            "name": "General Delay",
            "count": 2
           },
           {
            "name": "Mechanical",
            "count": 2
           },
           {
            "name": "Emergency Services",
            "count": 1
           }
          ]
         }
        },
        {
         "name": "Min Delay",
         "dtype": "float64",
         "stats": {
          "unique_count": 4,
          "nan_count": 0,
          "min": "7.0",
          "max": "11.0",
          "histogram": [
           {
            "bin_start": 7,
            "bin_end": 7.4,
            "count": 1
           },
           {
            "bin_start": 7.4,
            "bin_end": 7.8,
            "count": 0
           },
           {
            "bin_start": 7.8,
            "bin_end": 8.2,
            "count": 1
           },
           {
            "bin_start": 8.2,
            "bin_end": 8.6,
            "count": 0
           },
           {
            "bin_start": 8.6,
            "bin_end": 9,
            "count": 0
           },
           {
            "bin_start": 9,
            "bin_end": 9.4,
            "count": 0
           },
           {
            "bin_start": 9.4,
            "bin_end": 9.8,
            "count": 0
           },
           {
            "bin_start": 9.8,
            "bin_end": 10.2,
            "count": 2
           },
           {
            "bin_start": 10.2,
            "bin_end": 10.6,
            "count": 0
           },
           {
            "bin_start": 10.6,
            "bin_end": 11,
            "count": 1
           }
          ]
         }
        },
        {
         "name": "Min Gap",
         "dtype": "float64",
         "stats": {
          "unique_count": 4,
          "nan_count": 0,
          "min": "12.0",
          "max": "20.0",
          "histogram": [
           {
            "bin_start": 12,
            "bin_end": 12.8,
            "count": 1
           },
           {
            "bin_start": 12.8,
            "bin_end": 13.6,
            "count": 0
           },
           {
            "bin_start": 13.6,
            "bin_end": 14.4,
            "count": 1
           },
           {
            "bin_start": 14.4,
            "bin_end": 15.2,
            "count": 0
           },
           {
            "bin_start": 15.2,
            "bin_end": 16,
            "count": 0
           },
           {
            "bin_start": 16,
            "bin_end": 16.8,
            "count": 2
           },
           {
            "bin_start": 16.8,
            "bin_end": 17.6,
            "count": 0
           },
           {
            "bin_start": 17.6,
            "bin_end": 18.4,
            "count": 0
           },
           {
            "bin_start": 18.4,
            "bin_end": 19.2,
            "count": 0
           },
           {
            "bin_start": 19.2,
            "bin_end": 20,
            "count": 1
           }
          ]
         }
        },
        {
         "name": "Direction",
         "dtype": "object",
         "stats": {
          "unique_count": 3,
          "nan_count": 0,
          "categories": [
           {
            "name": "B/W",
            "count": 2
           },
           {
            "name": "E/B",
            "count": 2
           },
           {
            "name": "N/B",
            "count": 1
           }
          ]
         }
        },
        {
         "name": "Vehicle",
         "dtype": "float64",
         "stats": {
          "unique_count": 2,
          "nan_count": 2,
          "min": "4128.0",
          "max": "4160.0",
          "histogram": [
           {
            "bin_start": 4128,
            "bin_end": 4131.2,
            "count": 2
           },
           {
            "bin_start": 4131.2,
            "bin_end": 4134.4,
            "count": 0
           },
           {
            "bin_start": 4134.4,
            "bin_end": 4137.6,
            "count": 0
           },
           {
            "bin_start": 4137.6,
            "bin_end": 4140.8,
            "count": 0
           },
           {
            "bin_start": 4140.8,
            "bin_end": 4144,
            "count": 0
           },
           {
            "bin_start": 4144,
            "bin_end": 4147.2,
            "count": 0
           },
           {
            "bin_start": 4147.2,
            "bin_end": 4150.4,
            "count": 0
           },
           {
            "bin_start": 4150.4,
            "bin_end": 4153.6,
            "count": 0
           },
           {
            "bin_start": 4153.6,
            "bin_end": 4156.8,
            "count": 0
           },
           {
            "bin_start": 4156.8,
            "bin_end": 4160,
            "count": 1
           }
          ]
         }
        },
        {
         "name": "_deepnote_index_column",
         "dtype": "int64"
        }
       ],
       "rows_top": [
        {
         "Report Date": "2014-12-31T00:00:00.000000",
         "Route": 509,
         "Time": "22:30:00",
         "Day": "Wednesday",
         "Location": "Union Loop to Exhibition Loop",
         "Incident": "General Delay",
         "Min Delay": 10,
         "Min Gap": 20,
         "Direction": "B/W",
         "Vehicle": "nan",
         "_deepnote_index_column": 869
        },
        {
         "Report Date": "2014-12-31T00:00:00.000000",
         "Route": 504,
         "Time": "22:54:00",
         "Day": "Wednesday",
         "Location": "King and Dunn",
         "Incident": "Emergency Services",
         "Min Delay": 11,
         "Min Gap": 16,
         "Direction": "E/B",
         "Vehicle": "4128.0",
         "_deepnote_index_column": 870
        },
        {
         "Report Date": "2014-12-31T00:00:00.000000",
         "Route": 505,
         "Time": "23:00:00",
         "Day": "Wednesday",
         "Location": "Dundas West Station to Broadview Station",
         "Incident": "General Delay",
         "Min Delay": 10,
         "Min Gap": 12,
         "Direction": "B/W",
         "Vehicle": "nan",
         "_deepnote_index_column": 871
        },
        {
         "Report Date": "2014-12-31T00:00:00.000000",
         "Route": 511,
         "Time": "23:01:00",
         "Day": "Wednesday",
         "Location": "CNE",
         "Incident": "Mechanical",
         "Min Delay": 8,
         "Min Gap": 16,
         "Direction": "N/B",
         "Vehicle": "4160.0",
         "_deepnote_index_column": 872
        },
        {
         "Report Date": "2014-12-31T00:00:00.000000",
         "Route": 504,
         "Time": "23:18:00",
         "Day": "Wednesday",
         "Location": "King and Bathurst",
         "Incident": "Mechanical",
         "Min Delay": 7,
         "Min Gap": 14,
         "Direction": "E/B",
         "Vehicle": "4128.0",
         "_deepnote_index_column": 873
        }
       ],
       "rows_bottom": null
      },
      "text/plain": "    Report Date  Route      Time        Day  \\\n869  2014-12-31    509  22:30:00  Wednesday   \n870  2014-12-31    504  22:54:00  Wednesday   \n871  2014-12-31    505  23:00:00  Wednesday   \n872  2014-12-31    511  23:01:00  Wednesday   \n873  2014-12-31    504  23:18:00  Wednesday   \n\n                                     Location            Incident  Min Delay  \\\n869             Union Loop to Exhibition Loop       General Delay       10.0   \n870                             King and Dunn  Emergency Services       11.0   \n871  Dundas West Station to Broadview Station       General Delay       10.0   \n872                                       CNE          Mechanical        8.0   \n873                         King and Bathurst          Mechanical        7.0   \n\n     Min Gap Direction  Vehicle  \n869     20.0       B/W      NaN  \n870     16.0       E/B   4128.0  \n871     12.0       B/W      NaN  \n872     16.0       N/B   4160.0  \n873     14.0       E/B   4128.0  ",
      "text/html": "<div>\n<style scoped>\n    .dataframe tbody tr th:only-of-type {\n        vertical-align: middle;\n    }\n\n    .dataframe tbody tr th {\n        vertical-align: top;\n    }\n\n    .dataframe thead th {\n        text-align: right;\n    }\n</style>\n<table border=\"1\" class=\"dataframe\">\n  <thead>\n    <tr style=\"text-align: right;\">\n      <th></th>\n      <th>Report Date</th>\n      <th>Route</th>\n      <th>Time</th>\n      <th>Day</th>\n      <th>Location</th>\n      <th>Incident</th>\n      <th>Min Delay</th>\n      <th>Min Gap</th>\n      <th>Direction</th>\n      <th>Vehicle</th>\n    </tr>\n  </thead>\n  <tbody>\n    <tr>\n      <th>869</th>\n      <td>2014-12-31</td>\n      <td>509</td>\n      <td>22:30:00</td>\n      <td>Wednesday</td>\n      <td>Union Loop to Exhibition Loop</td>\n      <td>General Delay</td>\n      <td>10.0</td>\n      <td>20.0</td>\n      <td>B/W</td>\n      <td>NaN</td>\n    </tr>\n    <tr>\n      <th>870</th>\n      <td>2014-12-31</td>\n      <td>504</td>\n      <td>22:54:00</td>\n      <td>Wednesday</td>\n      <td>King and Dunn</td>\n      <td>Emergency Services</td>\n      <td>11.0</td>\n      <td>16.0</td>\n      <td>E/B</td>\n      <td>4128.0</td>\n    </tr>\n    <tr>\n      <th>871</th>\n      <td>2014-12-31</td>\n      <td>505</td>\n      <td>23:00:00</td>\n      <td>Wednesday</td>\n      <td>Dundas West Station to Broadview Station</td>\n      <td>General Delay</td>\n      <td>10.0</td>\n      <td>12.0</td>\n      <td>B/W</td>\n      <td>NaN</td>\n    </tr>\n    <tr>\n      <th>872</th>\n      <td>2014-12-31</td>\n      <td>511</td>\n      <td>23:01:00</td>\n      <td>Wednesday</td>\n      <td>CNE</td>\n      <td>Mechanical</td>\n      <td>8.0</td>\n      <td>16.0</td>\n      <td>N/B</td>\n      <td>4160.0</td>\n    </tr>\n    <tr>\n      <th>873</th>\n      <td>2014-12-31</td>\n      <td>504</td>\n      <td>23:18:00</td>\n      <td>Wednesday</td>\n      <td>King and Bathurst</td>\n      <td>Mechanical</td>\n      <td>7.0</td>\n      <td>14.0</td>\n      <td>E/B</td>\n      <td>4128.0</td>\n    </tr>\n  </tbody>\n</table>\n</div>"
     },
     "metadata": {}
    }
   ]
  },
  {
   "cell_type": "code",
   "metadata": {
    "cell_id": "00013-3f9e8b20-772b-4482-852e-04b9780ab92e",
    "deepnote_to_be_reexecuted": false,
    "source_hash": "311de951",
    "execution_start": 1618588429805,
    "execution_millis": 7,
    "deepnote_cell_type": "code"
   },
   "source": [
    "# save a dataframe to your filesystem as a pickle file\n",
    "file = \"iris_dataframe.pkl\"\n",
    "iris_dataframe.to_pickle(os.path.join(path,file))"
   ],
   "execution_count": null,
   "outputs": []
  },
  {
   "cell_type": "code",
   "metadata": {
    "cell_id": "00014-10774822-6a70-4802-b8d3-cd89a9608fd9",
    "deepnote_to_be_reexecuted": false,
    "source_hash": "a70f04ea",
    "execution_start": 1618588434963,
    "execution_millis": 24,
    "deepnote_cell_type": "code"
   },
   "source": [
    "# load a saved pickle file into a dataframe\n",
    "file = \"iris_dataframe.pkl\"\n",
    "iris_dataframe_from_pickle = pd.read_pickle(os.path.join(path,file))\n",
    "iris_dataframe_from_pickle.head()"
   ],
   "execution_count": null,
   "outputs": [
    {
     "output_type": "execute_result",
     "execution_count": 14,
     "data": {
      "application/vnd.deepnote.dataframe.v2+json": {
       "row_count": 5,
       "column_count": 5,
       "columns": [
        {
         "name": "sepal_length",
         "dtype": "float64",
         "stats": {
          "unique_count": 5,
          "nan_count": 0,
          "min": "4.6",
          "max": "5.1",
          "histogram": [
           {
            "bin_start": 4.6,
            "bin_end": 4.6499999999999995,
            "count": 1
           },
           {
            "bin_start": 4.6499999999999995,
            "bin_end": 4.699999999999999,
            "count": 0
           },
           {
            "bin_start": 4.699999999999999,
            "bin_end": 4.75,
            "count": 1
           },
           {
            "bin_start": 4.75,
            "bin_end": 4.8,
            "count": 0
           },
           {
            "bin_start": 4.8,
            "bin_end": 4.85,
            "count": 0
           },
           {
            "bin_start": 4.85,
            "bin_end": 4.8999999999999995,
            "count": 0
           },
           {
            "bin_start": 4.8999999999999995,
            "bin_end": 4.949999999999999,
            "count": 1
           },
           {
            "bin_start": 4.949999999999999,
            "bin_end": 5,
            "count": 0
           },
           {
            "bin_start": 5,
            "bin_end": 5.05,
            "count": 1
           },
           {
            "bin_start": 5.05,
            "bin_end": 5.1,
            "count": 1
           }
          ]
         }
        },
        {
         "name": "sepal_width",
         "dtype": "float64",
         "stats": {
          "unique_count": 5,
          "nan_count": 0,
          "min": "3.0",
          "max": "3.6",
          "histogram": [
           {
            "bin_start": 3,
            "bin_end": 3.06,
            "count": 1
           },
           {
            "bin_start": 3.06,
            "bin_end": 3.12,
            "count": 1
           },
           {
            "bin_start": 3.12,
            "bin_end": 3.18,
            "count": 0
           },
           {
            "bin_start": 3.18,
            "bin_end": 3.24,
            "count": 1
           },
           {
            "bin_start": 3.24,
            "bin_end": 3.3,
            "count": 0
           },
           {
            "bin_start": 3.3,
            "bin_end": 3.3600000000000003,
            "count": 0
           },
           {
            "bin_start": 3.3600000000000003,
            "bin_end": 3.42,
            "count": 0
           },
           {
            "bin_start": 3.42,
            "bin_end": 3.48,
            "count": 0
           },
           {
            "bin_start": 3.48,
            "bin_end": 3.54,
            "count": 1
           },
           {
            "bin_start": 3.54,
            "bin_end": 3.6,
            "count": 1
           }
          ]
         }
        },
        {
         "name": "petal_length",
         "dtype": "float64",
         "stats": {
          "unique_count": 3,
          "nan_count": 0,
          "min": "1.3",
          "max": "1.5",
          "histogram": [
           {
            "bin_start": 1.3,
            "bin_end": 1.32,
            "count": 1
           },
           {
            "bin_start": 1.32,
            "bin_end": 1.34,
            "count": 0
           },
           {
            "bin_start": 1.34,
            "bin_end": 1.36,
            "count": 0
           },
           {
            "bin_start": 1.36,
            "bin_end": 1.3800000000000001,
            "count": 0
           },
           {
            "bin_start": 1.3800000000000001,
            "bin_end": 1.4,
            "count": 0
           },
           {
            "bin_start": 1.4,
            "bin_end": 1.42,
            "count": 3
           },
           {
            "bin_start": 1.42,
            "bin_end": 1.44,
            "count": 0
           },
           {
            "bin_start": 1.44,
            "bin_end": 1.46,
            "count": 0
           },
           {
            "bin_start": 1.46,
            "bin_end": 1.48,
            "count": 0
           },
           {
            "bin_start": 1.48,
            "bin_end": 1.5,
            "count": 1
           }
          ]
         }
        },
        {
         "name": "petal_width",
         "dtype": "float64",
         "stats": {
          "unique_count": 1,
          "nan_count": 0,
          "min": "0.2",
          "max": "0.2",
          "histogram": [
           {
            "bin_start": -0.3,
            "bin_end": -0.19999999999999998,
            "count": 0
           },
           {
            "bin_start": -0.19999999999999998,
            "bin_end": -0.09999999999999998,
            "count": 0
           },
           {
            "bin_start": -0.09999999999999998,
            "bin_end": 5.551115123125783e-17,
            "count": 0
           },
           {
            "bin_start": 5.551115123125783e-17,
            "bin_end": 0.10000000000000003,
            "count": 0
           },
           {
            "bin_start": 0.10000000000000003,
            "bin_end": 0.2,
            "count": 0
           },
           {
            "bin_start": 0.2,
            "bin_end": 0.3000000000000001,
            "count": 5
           },
           {
            "bin_start": 0.3000000000000001,
            "bin_end": 0.4000000000000001,
            "count": 0
           },
           {
            "bin_start": 0.4000000000000001,
            "bin_end": 0.5,
            "count": 0
           },
           {
            "bin_start": 0.5,
            "bin_end": 0.6000000000000001,
            "count": 0
           },
           {
            "bin_start": 0.6000000000000001,
            "bin_end": 0.7,
            "count": 0
           }
          ]
         }
        },
        {
         "name": "species",
         "dtype": "object",
         "stats": {
          "unique_count": 1,
          "nan_count": 0,
          "categories": [
           {
            "name": "Setosa",
            "count": 5
           }
          ]
         }
        },
        {
         "name": "_deepnote_index_column",
         "dtype": "int64"
        }
       ],
       "rows_top": [
        {
         "sepal_length": 5.1,
         "sepal_width": 3.5,
         "petal_length": 1.4,
         "petal_width": 0.2,
         "species": "Setosa",
         "_deepnote_index_column": 0
        },
        {
         "sepal_length": 4.9,
         "sepal_width": 3,
         "petal_length": 1.4,
         "petal_width": 0.2,
         "species": "Setosa",
         "_deepnote_index_column": 1
        },
        {
         "sepal_length": 4.7,
         "sepal_width": 3.2,
         "petal_length": 1.3,
         "petal_width": 0.2,
         "species": "Setosa",
         "_deepnote_index_column": 2
        },
        {
         "sepal_length": 4.6,
         "sepal_width": 3.1,
         "petal_length": 1.5,
         "petal_width": 0.2,
         "species": "Setosa",
         "_deepnote_index_column": 3
        },
        {
         "sepal_length": 5,
         "sepal_width": 3.6,
         "petal_length": 1.4,
         "petal_width": 0.2,
         "species": "Setosa",
         "_deepnote_index_column": 4
        }
       ],
       "rows_bottom": null
      },
      "text/plain": "   sepal_length  sepal_width  petal_length  petal_width species\n0           5.1          3.5           1.4          0.2  Setosa\n1           4.9          3.0           1.4          0.2  Setosa\n2           4.7          3.2           1.3          0.2  Setosa\n3           4.6          3.1           1.5          0.2  Setosa\n4           5.0          3.6           1.4          0.2  Setosa",
      "text/html": "<div>\n<style scoped>\n    .dataframe tbody tr th:only-of-type {\n        vertical-align: middle;\n    }\n\n    .dataframe tbody tr th {\n        vertical-align: top;\n    }\n\n    .dataframe thead th {\n        text-align: right;\n    }\n</style>\n<table border=\"1\" class=\"dataframe\">\n  <thead>\n    <tr style=\"text-align: right;\">\n      <th></th>\n      <th>sepal_length</th>\n      <th>sepal_width</th>\n      <th>petal_length</th>\n      <th>petal_width</th>\n      <th>species</th>\n    </tr>\n  </thead>\n  <tbody>\n    <tr>\n      <th>0</th>\n      <td>5.1</td>\n      <td>3.5</td>\n      <td>1.4</td>\n      <td>0.2</td>\n      <td>Setosa</td>\n    </tr>\n    <tr>\n      <th>1</th>\n      <td>4.9</td>\n      <td>3.0</td>\n      <td>1.4</td>\n      <td>0.2</td>\n      <td>Setosa</td>\n    </tr>\n    <tr>\n      <th>2</th>\n      <td>4.7</td>\n      <td>3.2</td>\n      <td>1.3</td>\n      <td>0.2</td>\n      <td>Setosa</td>\n    </tr>\n    <tr>\n      <th>3</th>\n      <td>4.6</td>\n      <td>3.1</td>\n      <td>1.5</td>\n      <td>0.2</td>\n      <td>Setosa</td>\n    </tr>\n    <tr>\n      <th>4</th>\n      <td>5.0</td>\n      <td>3.6</td>\n      <td>1.4</td>\n      <td>0.2</td>\n      <td>Setosa</td>\n    </tr>\n  </tbody>\n</table>\n</div>"
     },
     "metadata": {}
    }
   ]
  },
  {
   "cell_type": "code",
   "metadata": {
    "tags": [],
    "cell_id": "00015-f59c283a-695e-471b-983f-97c500af591e",
    "deepnote_cell_type": "code"
   },
   "source": [],
   "execution_count": null,
   "outputs": []
  }
 ],
 "nbformat": 4,
 "nbformat_minor": 2,
 "metadata": {
  "kernelspec": {
   "display_name": "Python 3",
   "language": "python",
   "name": "python3"
  },
  "language_info": {
   "codemirror_mode": {
    "name": "ipython",
    "version": 3
   },
   "file_extension": ".py",
   "mimetype": "text/x-python",
   "name": "python",
   "nbconvert_exporter": "python",
   "pygments_lexer": "ipython3",
   "version": "3.7.4"
  },
  "deepnote_notebook_id": "3988816a-c966-48f5-9796-86666daae2f1",
  "deepnote": {},
  "deepnote_execution_queue": []
 }
}